{
 "cells": [
  {
   "cell_type": "code",
   "execution_count": 1,
   "metadata": {},
   "outputs": [],
   "source": [
    "    import ibis.omniscidb, dask, intake, sqlalchemy, pandas, pyarrow as arrow, altair, h5py as hdf5\n",
    "    "
   ]
  },
  {
   "cell_type": "markdown",
   "metadata": {},
   "source": [
    "<!-- END_TEASER -->\n",
    "\n",
    "<!--    "
   ]
  },
  {
   "cell_type": "code",
   "execution_count": 2,
   "metadata": {},
   "outputs": [],
   "source": [
    "    \n",
    "    #import refs\n",
    "    #from refs import __doc__ as refs\n",
    "    over_time = pandas.read_csv('annual_tags.csv').set_index('year').fillna('')\n",
    "    __import__('warnings').simplefilter(\"ignore\")\n",
    "    import IPython\n",
    "   "
   ]
  },
  {
   "cell_type": "markdown",
   "metadata": {},
   "source": [
    " \n",
    "-->"
   ]
  },
  {
   "cell_type": "markdown",
   "metadata": {},
   "source": [
    "# `ibis` as a generalized query tool for different backends.\n",
    "\n",
    "In [our most recent `ibis` post] we look at querying & retrieving data using a familiar `pandas`-like interface.\n",
    "This example focused on the fluent API that `ibis` provides to query structure from a SQLite database, a single backend.\n",
    "In this post, we'll explore `ibis`'s ability to answer questions about data using to different `ibis` backends.\n",
    "\n",
    "## `ibis` in the scientific Python ecosystem.\n",
    "\n",
    "Before we continue into the technical nitty-gritty of `ibis`, we'll consider `ibis` in the greater historical context of the scientific Python ecosystem.\n",
    "\n",
    "The design of quite a few high-level tools in the scientific Python world can be tracked back to the holistic `blaze` ecosystem that offered ways _**store, describe, query, and process**_ data.\n",
    "`blaze` had ambitious goals and is now defunct, but its influences resonate throughout\n",
    "the scientific python community development in the success of projects the focus specific features of a data ecosystem like:\n",
    "\n",
    "* `dask` processing data.\n",
    "* `intake` for describing data.\n",
    "* `ibis` for querying data.\n",
    "\n",
    "Throughout the rest of this document we'll highlight the ability of `ibis` to generically prescribe\n",
    "query expressions across different data storage systems."
   ]
  },
  {
   "cell_type": "markdown",
   "metadata": {},
   "source": [
    "### The design of [`ibis` backends][backends].\n",
    "\n",
    "Currently, `ibis` supports __>10__ backends.\n",
    "    \n",
    "    >>> dir(ibis)\n",
    "    [...HDFS...WebHDFS...bigquery...clickhouse...hdf5...impala...omniscidb...pandas...pyspark...spark...sql...sqlite...]\n",
    "    \n",
    "A backend takes an `ibis` query expression and applies computation, _and the query is independent of the computation_.\n",
    "A backend implementation, that can be queried with `ibis`, has one of the three following architectures.\n",
    "\n",
    "1. Direct execution backends - `pandas and hdf5`. \n",
    "2. Expression generating backends that create `sqlalchemy` expressions - `ibis.sql`.\n",
    "3. String generating backends - `ibis.bigquery and ibis.omniscidb`\n",
    "\n",
    "In the next few sections we'll unravel some of the different capiabilities of each approach."
   ]
  },
  {
   "cell_type": "code",
   "execution_count": 3,
   "metadata": {},
   "outputs": [
    {
     "data": {
      "text/markdown": [
       "## A data-driven history of `ibis` compatability.\n",
       "\n",
       "The table below looks at over 2000 issues in the ibis project.\n",
       "It provides an annual looked at the issues tagged in `ibis`\n",
       "for different backends over __6__ years.\n"
      ],
      "text/plain": [
       "<IPython.core.display.Markdown object>"
      ]
     },
     "metadata": {},
     "output_type": "display_data"
    },
    {
     "data": {
      "text/html": [
       "<div>\n",
       "<style scoped>\n",
       "    .dataframe tbody tr th:only-of-type {\n",
       "        vertical-align: middle;\n",
       "    }\n",
       "\n",
       "    .dataframe tbody tr th {\n",
       "        vertical-align: top;\n",
       "    }\n",
       "\n",
       "    .dataframe thead th {\n",
       "        text-align: right;\n",
       "    }\n",
       "</style>\n",
       "<table border=\"1\" class=\"dataframe\">\n",
       "  <thead>\n",
       "    <tr style=\"text-align: right;\">\n",
       "      <th></th>\n",
       "      <th>omnisci</th>\n",
       "      <th>spark</th>\n",
       "      <th>postgres</th>\n",
       "      <th>bigquery</th>\n",
       "      <th>pandas</th>\n",
       "      <th>sqlite</th>\n",
       "      <th>impala</th>\n",
       "      <th>kudu</th>\n",
       "      <th>geospatial</th>\n",
       "      <th>clickhouse</th>\n",
       "      <th>mysql</th>\n",
       "      <th>sqlalchemy</th>\n",
       "    </tr>\n",
       "    <tr>\n",
       "      <th>year</th>\n",
       "      <th></th>\n",
       "      <th></th>\n",
       "      <th></th>\n",
       "      <th></th>\n",
       "      <th></th>\n",
       "      <th></th>\n",
       "      <th></th>\n",
       "      <th></th>\n",
       "      <th></th>\n",
       "      <th></th>\n",
       "      <th></th>\n",
       "      <th></th>\n",
       "    </tr>\n",
       "  </thead>\n",
       "  <tbody>\n",
       "    <tr>\n",
       "      <th>2015</th>\n",
       "      <td></td>\n",
       "      <td></td>\n",
       "      <td>2</td>\n",
       "      <td></td>\n",
       "      <td>2</td>\n",
       "      <td>25</td>\n",
       "      <td>52</td>\n",
       "      <td></td>\n",
       "      <td></td>\n",
       "      <td></td>\n",
       "      <td></td>\n",
       "      <td>17</td>\n",
       "    </tr>\n",
       "    <tr>\n",
       "      <th>2016</th>\n",
       "      <td></td>\n",
       "      <td></td>\n",
       "      <td>3</td>\n",
       "      <td></td>\n",
       "      <td></td>\n",
       "      <td>2</td>\n",
       "      <td>4</td>\n",
       "      <td></td>\n",
       "      <td></td>\n",
       "      <td></td>\n",
       "      <td></td>\n",
       "      <td>3</td>\n",
       "    </tr>\n",
       "    <tr>\n",
       "      <th>2017</th>\n",
       "      <td></td>\n",
       "      <td>1</td>\n",
       "      <td>21</td>\n",
       "      <td>15</td>\n",
       "      <td>49</td>\n",
       "      <td>10</td>\n",
       "      <td>15</td>\n",
       "      <td></td>\n",
       "      <td></td>\n",
       "      <td>8</td>\n",
       "      <td></td>\n",
       "      <td>10</td>\n",
       "    </tr>\n",
       "    <tr>\n",
       "      <th>2018</th>\n",
       "      <td>31</td>\n",
       "      <td></td>\n",
       "      <td>10</td>\n",
       "      <td>71</td>\n",
       "      <td>35</td>\n",
       "      <td>8</td>\n",
       "      <td>17</td>\n",
       "      <td></td>\n",
       "      <td></td>\n",
       "      <td>9</td>\n",
       "      <td>2</td>\n",
       "      <td>2</td>\n",
       "    </tr>\n",
       "    <tr>\n",
       "      <th>2019</th>\n",
       "      <td>33</td>\n",
       "      <td>22</td>\n",
       "      <td>17</td>\n",
       "      <td>12</td>\n",
       "      <td>32</td>\n",
       "      <td>1</td>\n",
       "      <td>4</td>\n",
       "      <td></td>\n",
       "      <td>7</td>\n",
       "      <td>1</td>\n",
       "      <td>2</td>\n",
       "      <td>5</td>\n",
       "    </tr>\n",
       "    <tr>\n",
       "      <th>2020</th>\n",
       "      <td>38</td>\n",
       "      <td>3</td>\n",
       "      <td>4</td>\n",
       "      <td>2</td>\n",
       "      <td>4</td>\n",
       "      <td>1</td>\n",
       "      <td>2</td>\n",
       "      <td>1</td>\n",
       "      <td>3</td>\n",
       "      <td>4</td>\n",
       "      <td>4</td>\n",
       "      <td></td>\n",
       "    </tr>\n",
       "  </tbody>\n",
       "</table>\n",
       "</div>"
      ],
      "text/plain": [
       "     omnisci spark  postgres bigquery pandas  sqlite  impala kudu geospatial  \\\n",
       "year                                                                           \n",
       "2015                       2               2      25      52                   \n",
       "2016                       3                       2       4                   \n",
       "2017             1        21       15     49      10      15                   \n",
       "2018      31              10       71     35       8      17                   \n",
       "2019      33    22        17       12     32       1       4               7   \n",
       "2020      38     3         4        2      4       1       2    1          3   \n",
       "\n",
       "     clickhouse mysql sqlalchemy  \n",
       "year                              \n",
       "2015                          17  \n",
       "2016                           3  \n",
       "2017          8               10  \n",
       "2018          9     2          2  \n",
       "2019          1     2          5  \n",
       "2020          4     4             "
      ]
     },
     "metadata": {},
     "output_type": "display_data"
    }
   ],
   "source": [
    "display(IPython.display.Markdown(F\"\"\"## A data-driven history of `ibis` compatability.\n",
    "\n",
    "The table below looks at over 2000 issues in the ibis project.\n",
    "It provides an annual looked at the issues tagged in `ibis`\n",
    "for different backends over __{len(over_time)}__ years.\n",
    "\"\"\"), over_time)"
   ]
  },
  {
   "cell_type": "markdown",
   "metadata": {},
   "source": [
    "> We note an early focus `ibis.sqlite, sqlalchemy and ibis.impala`. \n",
    "Later, work began on the `pandas` backend rounding out the three different types of backgrounds.\n",
    "From this point, improvements were made to these key backends as `ibis.clickhouse, ibis.spark and \"postgres\"`. Recently, \n",
    "For the past 3 years, Quansight, in partnership with OmniSci, added the `ibis.omniscidb`\n",
    "string generating backend. Since Quansight Labs has taken on a role as a community maintainer \n",
    "for `ibis`. This collaboration introduced geospatial functionality to `ibis`, and we \n",
    "have on going efforts to introduce [SQL Server][sql-server] support\n",
    "\n",
    "### Currently, there is an ongoing effort to add sqlserver backends. \n",
    "\n",
    "Leave a comment the backends what you like to see? `dask`? `altair`?"
   ]
  },
  {
   "cell_type": "markdown",
   "metadata": {},
   "source": [
    "## `ibis` direct execution.\n",
    "\n",
    "`ibis` direct execution backends like `pandas and hdf5` operate on conventional in-memory python objects.\n",
    "`pandas` is the gold standard for structured data in python, and inspires the api for `ibis`."
   ]
  },
  {
   "cell_type": "code",
   "execution_count": 4,
   "metadata": {},
   "outputs": [],
   "source": [
    "    pd = ibis.pandas.connect({'A': pandas.util.testing.makeDataFrame()})"
   ]
  },
  {
   "cell_type": "markdown",
   "metadata": {},
   "source": [
    "`pd` is an `ibis` backend based off `pandas.DataFrame` objects."
   ]
  },
  {
   "cell_type": "code",
   "execution_count": 5,
   "metadata": {},
   "outputs": [],
   "source": [
    "    expression = pd.table('A').head()"
   ]
  },
  {
   "cell_type": "markdown",
   "metadata": {},
   "source": [
    "`expression` is an `ibis` query, that has `expression.compile` and `expression.execute` methods.\n",
    "We'll recognize the __execute__ method when we return `pandas.DataFrame`s from `ibis` expression.\n",
    "The __compile__ method does not trigger any computation, rather it constructs an intermediate form\n",
    "that is interpretted by a backend."
   ]
  },
  {
   "cell_type": "code",
   "execution_count": 6,
   "metadata": {},
   "outputs": [],
   "source": [
    "    >>> assert isinstance(expression.compile(), ibis.expr.types.TableExpr)"
   ]
  },
  {
   "cell_type": "markdown",
   "metadata": {},
   "source": [
    "In the case of direction execution backends, the `expression` compiles to an the original `ibis` \n",
    "expression.  And the computation is carried out based on a set of recipes defined in `ibis`.\n",
    "\n",
    "In general, we would typically do this work directly in `pandas`, however this work is\n",
    "practical in mocking tests for expressions independent of backends.\n",
    "\n",
    "> Learn more about the [HDF5 direct execution backend in the `ibis` tests][test-hdf5]."
   ]
  },
  {
   "cell_type": "markdown",
   "metadata": {},
   "source": [
    "## `ibis` expression generating backends."
   ]
  },
  {
   "cell_type": "code",
   "execution_count": 7,
   "metadata": {},
   "outputs": [],
   "source": [
    "    db = ibis.sqlite.connect('lahmansbaseballdb.sqlite')\n",
    "    expression = db.table('halloffame').head()"
   ]
  },
  {
   "cell_type": "markdown",
   "metadata": {},
   "source": [
    "Expression generating backends operate on [SQL] databases that interoperator with `sqlalchemy`."
   ]
  },
  {
   "cell_type": "code",
   "execution_count": 8,
   "metadata": {},
   "outputs": [],
   "source": [
    "    >>> assert isinstance(expression.compile(), sqlalchemy.sql.Select)"
   ]
  },
  {
   "cell_type": "markdown",
   "metadata": {},
   "source": [
    "    \n",
    "In the case of expression generating backends, the intermediate representation is a `sqlalchemy` object.\n",
    "`sqlalchemy` is _The Database Toolkit for Python_, and `ibis` leverages it compatability\n",
    "with traditional [SQL] databases.\n",
    "    \n"
   ]
  },
  {
   "cell_type": "markdown",
   "metadata": {},
   "source": [
    "## `ibis` string generating backends.\n",
    "\n",
    "```bash\n",
    "pip install --upgrade ibis-framework[omniscidb]\n",
    "```\n",
    "\n",
    "String generating backends allow `ibis` to interface with big data systems that manage \n",
    "their own computation. For example, we may connect to an example `omnisci` database.\n",
    "    "
   ]
  },
  {
   "cell_type": "code",
   "execution_count": 9,
   "metadata": {},
   "outputs": [],
   "source": [
    "    import ibis.omniscidb"
   ]
  },
  {
   "cell_type": "code",
   "execution_count": 10,
   "metadata": {},
   "outputs": [],
   "source": [
    "    omnisci = ibis.omniscidb.connect(host='metis.omnisci.com', user='demouser', password='HyperInteractive', port=443, database='omnisci', protocol='https')"
   ]
  },
  {
   "cell_type": "markdown",
   "metadata": {},
   "source": [
    "    \n",
    "`omnisci` is described as a string generating backend because the intermediate representation of the\n",
    "query is a flavor of SQL."
   ]
  },
  {
   "cell_type": "code",
   "execution_count": 11,
   "metadata": {},
   "outputs": [],
   "source": [
    "    expression = omnisci.table('upstream_reservoir').head()"
   ]
  },
  {
   "cell_type": "markdown",
   "metadata": {},
   "source": [
    "    \n",
    "A string generating expression compiles to `ibis.omniscidb` flavored [SQL], while `ibis.bigquery` may have a different string representatin."
   ]
  },
  {
   "cell_type": "code",
   "execution_count": 12,
   "metadata": {},
   "outputs": [
    {
     "data": {
      "text/plain": [
       "'SELECT *\\nFROM upstream_reservoir\\nLIMIT 5'"
      ]
     },
     "execution_count": 12,
     "metadata": {},
     "output_type": "execute_result"
    }
   ],
   "source": [
    "    >>> expression.compile()"
   ]
  },
  {
   "cell_type": "markdown",
   "metadata": {},
   "source": [
    "> Major credit goes to [@xmnlab] in his heroic PR to introduce `ibis.omniscidb` into `ibis`. You can watch\n",
    "the drama play out in this [Github Issue][omnisci-pr]. If you'd like to learn more about [OmniSci] and\n",
    "`ibis.omniscidb` checkout the following links.\n",
    "> * [OmniSci][omnisci]\n",
    "> * [Quansight Labs- Ibis: Python data analysis productivity framework][labs-post]"
   ]
  },
  {
   "cell_type": "markdown",
   "metadata": {},
   "source": [
    "## Conclusion\n",
    "\n",
    "We'd like to thank the maintainers of the `ibis` for\n",
    "their and effort in supporting the `ibis` community."
   ]
  },
  {
   "cell_type": "markdown",
   "metadata": {},
   "source": [
    "<!--"
   ]
  },
  {
   "cell_type": "code",
   "execution_count": 15,
   "metadata": {},
   "outputs": [
    {
     "name": "stdout",
     "output_type": "stream",
     "text": [
      "[NbConvertApp] Converting notebook the-ibis-backends.ipynb to markdown\n",
      "[NbConvertApp] Writing 13723 bytes to the-ibis-backends.md\n"
     ]
    }
   ],
   "source": [
    "!jupyter nbconvert --to markdown --TemplateExporter.exclude_input=True the-ibis-backends.ipynb"
   ]
  },
  {
   "cell_type": "markdown",
   "metadata": {},
   "source": [
    "-->"
   ]
  }
 ],
 "metadata": {
  "kernelspec": {
   "display_name": "Python 3",
   "language": "python",
   "name": "python3"
  },
  "language_info": {
   "codemirror_mode": {
    "name": "ipython",
    "version": 3
   },
   "file_extension": ".py",
   "mimetype": "text/x-python",
   "name": "python",
   "nbconvert_exporter": "python",
   "pygments_lexer": "ipython3",
   "version": "3.7.7"
  },
  "nikola": {
   "category": "",
   "date": "2020-07-13 14:59:19 UTC-05:00",
   "description": "",
   "link": "",
   "slug": "the-ibis-backends",
   "tags": "",
   "title": "The ibis backends",
   "type": "text"
  }
 },
 "nbformat": 4,
 "nbformat_minor": 4
}
