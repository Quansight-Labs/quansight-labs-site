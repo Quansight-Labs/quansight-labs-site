{
 "cells": [
  {
   "cell_type": "markdown",
   "metadata": {},
   "source": [
    "![](https://avatars3.githubusercontent.com/u/27442526?v=4)"
   ]
  },
  {
   "cell_type": "markdown",
   "metadata": {},
   "source": [
    "[Ibis](https://www.ibis-project.org/) is a mature open-source project that has been in development for about 5 years; it currently has about 1350 stars on Github. It provides an interface to SQL for Python programmers and bridges the gap between remote storage & execution systems. These features provide authors the ability to:\n",
    "\n",
    "1. write backend-independent [SQL](https://en.wikipedia.org/wiki/SQL) expressions in [Python](https://en.wikipedia.org/wiki/Python_(programming_language));\n",
    "1. access different database connections (eg. [SQLite](https://www.sqlite.org/index.html), [OmniSci](https://www.omnisci.com/), [Pandas](http://pandas.pydata.org/)); and\n",
    "1. confirm visually their SQL queries with [directed acyclic graphs (DAGs)](https://en.wikipedia.org/wiki/Directed_acyclic_graph)."
   ]
  },
  {
   "cell_type": "markdown",
   "metadata": {},
   "source": [
    "<!-- TEASER_END -->"
   ]
  },
  {
   "cell_type": "markdown",
   "metadata": {},
   "source": [
    "Ibis is an alternative approach using databases that relies on Python rather than SQL experience. Typically, users have to learn an entirely new syntax or flavor of SQL to perform simple tasks. Now, those familiar with Python can avoid a new learning curve by using Ibis for composing and executing database queries using familiar Python syntaxes (i.e., similar to Pandas and Dask). Ibis assists in formation of SQL expressions by providing visual feedback about each Python object.\n",
    "This post focuses on writing SQL expressions in Python and how to compose queries visually using Ibis. We'll demonstrate this with a SQLite database&mdash;in particular, [Sean Lahman’s baseball database](http://www.seanlahman.com/baseball-archive/statistics/)."
   ]
  },
  {
   "cell_type": "markdown",
   "metadata": {},
   "source": [
    "## Connecting to a database\n",
    "\n",
    "To get started, we’ll need to establish a [database connection](https://en.wikipedia.org/wiki/Database_connection). Ibis makes it easy to create connections of different types. Let's go ahead and do this now with the function [`ibis.sqlite.connect`](https://docs.ibis-project.org/docs/api.html#sqlite-client) (in this instance, the database used is a SQLite database):"
   ]
  },
  {
   "cell_type": "code",
   "execution_count": 1,
   "metadata": {},
   "outputs": [],
   "source": [
    "%matplotlib inline\n",
    "import ibis\n",
    "import pathlib, requests\n",
    "\n",
    "db_path = pathlib.Path.cwd() / 'lahmansbaseballdb.sqlite'\n",
    "\n",
    "if not db_path.exists():          # Downloads database if necessary\n",
    "    with open(db_path, 'wb') as f:\n",
    "        URL = 'https://github.com/WebucatorTraining/lahman-baseball-mysql/raw/master/lahmansbaseballdb.sqlite'\n",
    "        req = requests.get(URL)\n",
    "        f.write(req.content)\n",
    "\n",
    "client = ibis.sqlite.connect(db_path.name) # Opens SQLite database connection"
   ]
  },
  {
   "cell_type": "markdown",
   "metadata": {},
   "source": [
    "The `client` object represents our connection to the database. It is essential to use the appropriate Ibis connection&mdash;SQLite in this case constructed through the [`ibis.sqlite` namespace](https://docs.ibis-project.org/docs/api.html#sqlite-client)&mdash;for the particular database. \n",
    "\n",
    "This [baseball database](http://www.seanlahman.com/baseball-archive/statistics/) has 29 distinct tables; we can see by running the following code:"
   ]
  },
  {
   "cell_type": "code",
   "execution_count": 2,
   "metadata": {},
   "outputs": [
    {
     "name": "stdout",
     "output_type": "stream",
     "text": [
      "This database has 29 tables.\n"
     ]
    }
   ],
   "source": [
    "tables = client.list_tables()\n",
    "print(f'This database has {len(tables)} tables.')"
   ]
  },
  {
   "cell_type": "markdown",
   "metadata": {},
   "source": [
    "## Selecting and visualizing tables"
   ]
  },
  {
   "cell_type": "markdown",
   "metadata": {},
   "source": [
    "Displaying the list `tables`, gives the names of all the tables which include, among others, tables with identifiers\n",
    "```{python}\n",
    "[...'appearances'...'halloffame', 'homegames', 'leagues', 'managers',...]\n",
    "```\n",
    "Let's use the database connection to extract & examine dataframe representations of the `halloffame` and `appearances` tables from the baseball database. To do this, we can invoke the [`table` method](https://docs.ibis-project.org/docs/generated/ibis.impala.api.ImpalaDatabase.table.html) associated with the `client` object called with the appropriate names."
   ]
  },
  {
   "cell_type": "code",
   "execution_count": 3,
   "metadata": {},
   "outputs": [],
   "source": [
    "halloffame = client.table('halloffame', database='base')\n",
    "appearances = client.table('appearances', database='base')"
   ]
  },
  {
   "cell_type": "markdown",
   "metadata": {},
   "source": [
    "At the moment, the objects objects `halloffame` and `appearances` just constructed don’t hold any data; instead, the objects are *expressions* of type `TableExpr` that represent putative operations applied to the data. The data itself is inert wherever it's actually located&mdash;in this case, within the SQLite database. We can verify this by examining their types or by using assertions like this:"
   ]
  },
  {
   "cell_type": "code",
   "execution_count": 4,
   "metadata": {},
   "outputs": [
    {
     "name": "stdout",
     "output_type": "stream",
     "text": [
      "The object appearances has type TableExpr.\n"
     ]
    }
   ],
   "source": [
    "print(f'The object appearances has type {type(appearances).__name__}.')\n",
    "assert isinstance(halloffame, ibis.expr.types.TableExpr), 'Wrong type for halloffame'"
   ]
  },
  {
   "cell_type": "markdown",
   "metadata": {},
   "source": [
    "We can examine the contents of these Ibis table expressions using the [`TableExpr.limit`](https://docs.ibis-project.org/docs/generated/ibis.expr.api.TableExpr.limit.html) or the `TableExpr.head` method (similar to the [Pandas `DataFrame.head` method](https://pandas.pydata.org/docs/reference/api/pandas.DataFrame.head.html)). That is, we can define an object `sample` that represents a sub-table comprising the first few rows of the `halloffame` table:"
   ]
  },
  {
   "cell_type": "code",
   "execution_count": 5,
   "metadata": {},
   "outputs": [
    {
     "name": "stdout",
     "output_type": "stream",
     "text": [
      "The object sample is of type TableExpr\n"
     ]
    }
   ],
   "source": [
    "sample = halloffame.head()\n",
    "print(f'The object sample is of type {type(sample).__name__}')"
   ]
  },
  {
   "cell_type": "markdown",
   "metadata": {},
   "source": [
    "Remember, the object `sample` is a `TableExpr` object representing some SQL query to extracts a sub-table from a larger table. We can view the actual SQL query corresponding to `sample` by compiling it with the [`compile` method](https://docs.ibis-project.org/docs/generated/ibis.expr.api.Expr.compile.html) and converting the result to a string:"
   ]
  },
  {
   "cell_type": "code",
   "execution_count": 6,
   "metadata": {},
   "outputs": [
    {
     "data": {
      "text/plain": [
       "'SELECT t0.\"ID\", t0.\"playerID\", t0.yearid, t0.\"votedBy\", t0.ballots, t0.needed, t0.votes, t0.inducted, t0.category, t0.needed_note \\nFROM base.halloffame AS t0\\n LIMIT ? OFFSET ?'"
      ]
     },
     "execution_count": 6,
     "metadata": {},
     "output_type": "execute_result"
    }
   ],
   "source": [
    "str(sample.compile())"
   ]
  },
  {
   "cell_type": "markdown",
   "metadata": {},
   "source": [
    "Another useful feature of Ibis is its ability to represent an SQL query as a [DAG (Directed Acyclic Graph)](https://en.wikipedia.org/wiki/Directed_acyclic_graph). For instance, evaluating the object `sample` at the interactive command prompt yields a visualization of a sequence of database operations:"
   ]
  },
  {
   "cell_type": "code",
   "execution_count": 7,
   "metadata": {},
   "outputs": [
    {
     "data": {
      "image/png": "[encoded data removed]",
      "text/plain": [
       "ref_0\n",
       "SQLiteTable[table]\n",
       "  name: halloffame\n",
       "  schema:\n",
       "    ID : int32\n",
       "    playerID : string\n",
       "    yearid : int16\n",
       "    votedBy : string\n",
       "    ballots : int16\n",
       "    needed : int16\n",
       "    votes : int16\n",
       "    inducted : string\n",
       "    category : string\n",
       "    needed_note : string\n",
       "\n",
       "Limit[table]\n",
       "  table:\n",
       "    Table: ref_0\n",
       "  n:\n",
       "    5\n",
       "  offset:\n",
       "    0"
      ]
     },
     "execution_count": 7,
     "metadata": {},
     "output_type": "execute_result"
    }
   ],
   "source": [
    "sample  # This produces the image below in a suitably enabled shell"
   ]
  },
  {
   "cell_type": "markdown",
   "metadata": {},
   "source": [
    "This image of a DAG is produced using [Graphviz](https://graphviz.org/); those familiar with [Dask](https://dask.org/) may have used a similar helpful feature to assemble [task graphs](https://docs.dask.org/en/latest/graphviz.html).\n",
    "\n",
    "Finally, the actual sub-table corresponding to the expression sample can be extracted using the [`execute` method](https://docs.ibis-project.org/docs/generated/ibis.expr.api.Expr.execute.html) (similar to [`compute`](https://docs.dask.org/en/latest/api.html#dask.compute) in [Dask](https://docs.dask.org)). The result returned by executing the expression sample is a [tidy](https://vita.had.co.nz/papers/tidy-data.pdf) [Pandas `DataFrame`](https://pandas.pydata.org/docs/reference/frame.html) object."
   ]
  },
  {
   "cell_type": "code",
   "execution_count": 8,
   "metadata": {},
   "outputs": [
    {
     "name": "stdout",
     "output_type": "stream",
     "text": [
      "The type of result is DataFrame\n"
     ]
    },
    {
     "data": {
      "text/html": [
       "<div>\n",
       "<style scoped>\n",
       "    .dataframe tbody tr th:only-of-type {\n",
       "        vertical-align: middle;\n",
       "    }\n",
       "\n",
       "    .dataframe tbody tr th {\n",
       "        vertical-align: top;\n",
       "    }\n",
       "\n",
       "    .dataframe thead th {\n",
       "        text-align: right;\n",
       "    }\n",
       "</style>\n",
       "<table border=\"1\" class=\"dataframe\">\n",
       "  <thead>\n",
       "    <tr style=\"text-align: right;\">\n",
       "      <th></th>\n",
       "      <th>ID</th>\n",
       "      <th>playerID</th>\n",
       "      <th>yearid</th>\n",
       "      <th>votedBy</th>\n",
       "      <th>ballots</th>\n",
       "      <th>needed</th>\n",
       "      <th>votes</th>\n",
       "      <th>inducted</th>\n",
       "      <th>category</th>\n",
       "      <th>needed_note</th>\n",
       "    </tr>\n",
       "  </thead>\n",
       "  <tbody>\n",
       "    <tr>\n",
       "      <th>0</th>\n",
       "      <td>1</td>\n",
       "      <td>cobbty01</td>\n",
       "      <td>1936</td>\n",
       "      <td>BBWAA</td>\n",
       "      <td>226</td>\n",
       "      <td>170</td>\n",
       "      <td>222</td>\n",
       "      <td>Y</td>\n",
       "      <td>Player</td>\n",
       "      <td>None</td>\n",
       "    </tr>\n",
       "    <tr>\n",
       "      <th>1</th>\n",
       "      <td>2</td>\n",
       "      <td>ruthba01</td>\n",
       "      <td>1936</td>\n",
       "      <td>BBWAA</td>\n",
       "      <td>226</td>\n",
       "      <td>170</td>\n",
       "      <td>215</td>\n",
       "      <td>Y</td>\n",
       "      <td>Player</td>\n",
       "      <td>None</td>\n",
       "    </tr>\n",
       "    <tr>\n",
       "      <th>2</th>\n",
       "      <td>3</td>\n",
       "      <td>wagneho01</td>\n",
       "      <td>1936</td>\n",
       "      <td>BBWAA</td>\n",
       "      <td>226</td>\n",
       "      <td>170</td>\n",
       "      <td>215</td>\n",
       "      <td>Y</td>\n",
       "      <td>Player</td>\n",
       "      <td>None</td>\n",
       "    </tr>\n",
       "    <tr>\n",
       "      <th>3</th>\n",
       "      <td>4</td>\n",
       "      <td>mathech01</td>\n",
       "      <td>1936</td>\n",
       "      <td>BBWAA</td>\n",
       "      <td>226</td>\n",
       "      <td>170</td>\n",
       "      <td>205</td>\n",
       "      <td>Y</td>\n",
       "      <td>Player</td>\n",
       "      <td>None</td>\n",
       "    </tr>\n",
       "    <tr>\n",
       "      <th>4</th>\n",
       "      <td>5</td>\n",
       "      <td>johnswa01</td>\n",
       "      <td>1936</td>\n",
       "      <td>BBWAA</td>\n",
       "      <td>226</td>\n",
       "      <td>170</td>\n",
       "      <td>189</td>\n",
       "      <td>Y</td>\n",
       "      <td>Player</td>\n",
       "      <td>None</td>\n",
       "    </tr>\n",
       "  </tbody>\n",
       "</table>\n",
       "</div>"
      ],
      "text/plain": [
       "   ID   playerID  yearid votedBy  ballots  needed  votes inducted category  \\\n",
       "0   1   cobbty01    1936   BBWAA      226     170    222        Y   Player   \n",
       "1   2   ruthba01    1936   BBWAA      226     170    215        Y   Player   \n",
       "2   3  wagneho01    1936   BBWAA      226     170    215        Y   Player   \n",
       "3   4  mathech01    1936   BBWAA      226     170    205        Y   Player   \n",
       "4   5  johnswa01    1936   BBWAA      226     170    189        Y   Player   \n",
       "\n",
       "  needed_note  \n",
       "0        None  \n",
       "1        None  \n",
       "2        None  \n",
       "3        None  \n",
       "4        None  "
      ]
     },
     "execution_count": 8,
     "metadata": {},
     "output_type": "execute_result"
    }
   ],
   "source": [
    "result = sample.execute()\n",
    "print(f'The type of result is {type(result).__name__}')\n",
    "result    # Leading 5 rows of halloffame table)"
   ]
  },
  {
   "cell_type": "markdown",
   "metadata": {},
   "source": [
    "A similar extraction of the leading five rows from the `appearances` table (in one line)\n",
    "gives the following table with 23 columns:"
   ]
  },
  {
   "cell_type": "code",
   "execution_count": 9,
   "metadata": {},
   "outputs": [
    {
     "data": {
      "text/html": [
       "<div>\n",
       "<style scoped>\n",
       "    .dataframe tbody tr th:only-of-type {\n",
       "        vertical-align: middle;\n",
       "    }\n",
       "\n",
       "    .dataframe tbody tr th {\n",
       "        vertical-align: top;\n",
       "    }\n",
       "\n",
       "    .dataframe thead th {\n",
       "        text-align: right;\n",
       "    }\n",
       "</style>\n",
       "<table border=\"1\" class=\"dataframe\">\n",
       "  <thead>\n",
       "    <tr style=\"text-align: right;\">\n",
       "      <th></th>\n",
       "      <th>ID</th>\n",
       "      <th>yearID</th>\n",
       "      <th>teamID</th>\n",
       "      <th>team_ID</th>\n",
       "      <th>lgID</th>\n",
       "      <th>playerID</th>\n",
       "      <th>G_all</th>\n",
       "      <th>GS</th>\n",
       "      <th>G_batting</th>\n",
       "      <th>G_defense</th>\n",
       "      <th>...</th>\n",
       "      <th>G_2b</th>\n",
       "      <th>G_3b</th>\n",
       "      <th>G_ss</th>\n",
       "      <th>G_lf</th>\n",
       "      <th>G_cf</th>\n",
       "      <th>G_rf</th>\n",
       "      <th>G_of</th>\n",
       "      <th>G_dh</th>\n",
       "      <th>G_ph</th>\n",
       "      <th>G_pr</th>\n",
       "    </tr>\n",
       "  </thead>\n",
       "  <tbody>\n",
       "    <tr>\n",
       "      <th>0</th>\n",
       "      <td>1</td>\n",
       "      <td>1871</td>\n",
       "      <td>TRO</td>\n",
       "      <td>8</td>\n",
       "      <td>NA</td>\n",
       "      <td>abercda01</td>\n",
       "      <td>1</td>\n",
       "      <td>1</td>\n",
       "      <td>1</td>\n",
       "      <td>1</td>\n",
       "      <td>...</td>\n",
       "      <td>0</td>\n",
       "      <td>0</td>\n",
       "      <td>1</td>\n",
       "      <td>0</td>\n",
       "      <td>0</td>\n",
       "      <td>0</td>\n",
       "      <td>0</td>\n",
       "      <td>0</td>\n",
       "      <td>0</td>\n",
       "      <td>0</td>\n",
       "    </tr>\n",
       "    <tr>\n",
       "      <th>1</th>\n",
       "      <td>2</td>\n",
       "      <td>1871</td>\n",
       "      <td>RC1</td>\n",
       "      <td>7</td>\n",
       "      <td>NA</td>\n",
       "      <td>addybo01</td>\n",
       "      <td>25</td>\n",
       "      <td>25</td>\n",
       "      <td>25</td>\n",
       "      <td>25</td>\n",
       "      <td>...</td>\n",
       "      <td>22</td>\n",
       "      <td>0</td>\n",
       "      <td>3</td>\n",
       "      <td>0</td>\n",
       "      <td>0</td>\n",
       "      <td>0</td>\n",
       "      <td>0</td>\n",
       "      <td>0</td>\n",
       "      <td>0</td>\n",
       "      <td>0</td>\n",
       "    </tr>\n",
       "    <tr>\n",
       "      <th>2</th>\n",
       "      <td>3</td>\n",
       "      <td>1871</td>\n",
       "      <td>CL1</td>\n",
       "      <td>3</td>\n",
       "      <td>NA</td>\n",
       "      <td>allisar01</td>\n",
       "      <td>29</td>\n",
       "      <td>29</td>\n",
       "      <td>29</td>\n",
       "      <td>29</td>\n",
       "      <td>...</td>\n",
       "      <td>2</td>\n",
       "      <td>0</td>\n",
       "      <td>0</td>\n",
       "      <td>0</td>\n",
       "      <td>29</td>\n",
       "      <td>0</td>\n",
       "      <td>29</td>\n",
       "      <td>0</td>\n",
       "      <td>0</td>\n",
       "      <td>0</td>\n",
       "    </tr>\n",
       "    <tr>\n",
       "      <th>3</th>\n",
       "      <td>4</td>\n",
       "      <td>1871</td>\n",
       "      <td>WS3</td>\n",
       "      <td>9</td>\n",
       "      <td>NA</td>\n",
       "      <td>allisdo01</td>\n",
       "      <td>27</td>\n",
       "      <td>27</td>\n",
       "      <td>27</td>\n",
       "      <td>27</td>\n",
       "      <td>...</td>\n",
       "      <td>0</td>\n",
       "      <td>0</td>\n",
       "      <td>0</td>\n",
       "      <td>0</td>\n",
       "      <td>0</td>\n",
       "      <td>0</td>\n",
       "      <td>0</td>\n",
       "      <td>0</td>\n",
       "      <td>0</td>\n",
       "      <td>0</td>\n",
       "    </tr>\n",
       "    <tr>\n",
       "      <th>4</th>\n",
       "      <td>5</td>\n",
       "      <td>1871</td>\n",
       "      <td>RC1</td>\n",
       "      <td>7</td>\n",
       "      <td>NA</td>\n",
       "      <td>ansonca01</td>\n",
       "      <td>25</td>\n",
       "      <td>25</td>\n",
       "      <td>25</td>\n",
       "      <td>25</td>\n",
       "      <td>...</td>\n",
       "      <td>2</td>\n",
       "      <td>20</td>\n",
       "      <td>0</td>\n",
       "      <td>1</td>\n",
       "      <td>0</td>\n",
       "      <td>0</td>\n",
       "      <td>1</td>\n",
       "      <td>0</td>\n",
       "      <td>0</td>\n",
       "      <td>0</td>\n",
       "    </tr>\n",
       "  </tbody>\n",
       "</table>\n",
       "<p>5 rows × 23 columns</p>\n",
       "</div>"
      ],
      "text/plain": [
       "   ID  yearID teamID  team_ID lgID   playerID  G_all  GS  G_batting  \\\n",
       "0   1    1871    TRO        8   NA  abercda01      1   1          1   \n",
       "1   2    1871    RC1        7   NA   addybo01     25  25         25   \n",
       "2   3    1871    CL1        3   NA  allisar01     29  29         29   \n",
       "3   4    1871    WS3        9   NA  allisdo01     27  27         27   \n",
       "4   5    1871    RC1        7   NA  ansonca01     25  25         25   \n",
       "\n",
       "   G_defense  ...  G_2b  G_3b  G_ss  G_lf  G_cf  G_rf  G_of  G_dh  G_ph  G_pr  \n",
       "0          1  ...     0     0     1     0     0     0     0     0     0     0  \n",
       "1         25  ...    22     0     3     0     0     0     0     0     0     0  \n",
       "2         29  ...     2     0     0     0    29     0    29     0     0     0  \n",
       "3         27  ...     0     0     0     0     0     0     0     0     0     0  \n",
       "4         25  ...     2    20     0     1     0     0     1     0     0     0  \n",
       "\n",
       "[5 rows x 23 columns]"
      ]
     },
     "execution_count": 9,
     "metadata": {},
     "output_type": "execute_result"
    }
   ],
   "source": [
    "appearances.head().execute()  # Leading 5 rows of appearances table)"
   ]
  },
  {
   "cell_type": "markdown",
   "metadata": {},
   "source": [
    "## Filtering and selecting data"
   ]
  },
  {
   "cell_type": "markdown",
   "metadata": {},
   "source": [
    "As mentioned earlier, Ibis uses familiar Pandas syntax to build SQL queries. As an example, let's look at the various kinds of entries in the `category` column from the `halloffame` table. A nice way to do this is to extract the relevant column with attribute access and apply the [`value_counts` method](https://docs.ibis-project.org/docs/generated/ibis.expr.api.ColumnExpr.value_counts.html). Remember, an invokation of `execute` is needed to realize the actual expression."
   ]
  },
  {
   "cell_type": "code",
   "execution_count": 10,
   "metadata": {},
   "outputs": [
    {
     "data": {
      "text/html": [
       "<div>\n",
       "<style scoped>\n",
       "    .dataframe tbody tr th:only-of-type {\n",
       "        vertical-align: middle;\n",
       "    }\n",
       "\n",
       "    .dataframe tbody tr th {\n",
       "        vertical-align: top;\n",
       "    }\n",
       "\n",
       "    .dataframe thead th {\n",
       "        text-align: right;\n",
       "    }\n",
       "</style>\n",
       "<table border=\"1\" class=\"dataframe\">\n",
       "  <thead>\n",
       "    <tr style=\"text-align: right;\">\n",
       "      <th></th>\n",
       "      <th>category</th>\n",
       "      <th>count</th>\n",
       "    </tr>\n",
       "  </thead>\n",
       "  <tbody>\n",
       "    <tr>\n",
       "      <th>0</th>\n",
       "      <td>Manager</td>\n",
       "      <td>74</td>\n",
       "    </tr>\n",
       "    <tr>\n",
       "      <th>1</th>\n",
       "      <td>Pioneer/Executive</td>\n",
       "      <td>41</td>\n",
       "    </tr>\n",
       "    <tr>\n",
       "      <th>2</th>\n",
       "      <td>Player</td>\n",
       "      <td>4066</td>\n",
       "    </tr>\n",
       "    <tr>\n",
       "      <th>3</th>\n",
       "      <td>Umpire</td>\n",
       "      <td>10</td>\n",
       "    </tr>\n",
       "  </tbody>\n",
       "</table>\n",
       "</div>"
      ],
      "text/plain": [
       "            category  count\n",
       "0            Manager     74\n",
       "1  Pioneer/Executive     41\n",
       "2             Player   4066\n",
       "3             Umpire     10"
      ]
     },
     "execution_count": 10,
     "metadata": {},
     "output_type": "execute_result"
    }
   ],
   "source": [
    "halloffame.category.value_counts().execute()"
   ]
  },
  {
   "cell_type": "markdown",
   "metadata": {},
   "source": [
    "There are four different types of entries in this column, most of which are `Player`s. To illustrate filtering and selection, we'll create a expression `condition` of boolean values corresponding to rows from the `halloffame` table in which the `category` column has the value `Player`. The boolean values represented by `condition` can be extracted from the table `halloffame` using brackets. The final result is bound to the identifier `players`."
   ]
  },
  {
   "cell_type": "code",
   "execution_count": 11,
   "metadata": {},
   "outputs": [],
   "source": [
    "condition = halloffame.category == 'Player'\n",
    "players = halloffame[condition]"
   ]
  },
  {
   "cell_type": "code",
   "execution_count": 12,
   "metadata": {},
   "outputs": [
    {
     "data": {
      "text/html": [
       "<div>\n",
       "<style scoped>\n",
       "    .dataframe tbody tr th:only-of-type {\n",
       "        vertical-align: middle;\n",
       "    }\n",
       "\n",
       "    .dataframe tbody tr th {\n",
       "        vertical-align: top;\n",
       "    }\n",
       "\n",
       "    .dataframe thead th {\n",
       "        text-align: right;\n",
       "    }\n",
       "</style>\n",
       "<table border=\"1\" class=\"dataframe\">\n",
       "  <thead>\n",
       "    <tr style=\"text-align: right;\">\n",
       "      <th></th>\n",
       "      <th>ID</th>\n",
       "      <th>playerID</th>\n",
       "      <th>yearid</th>\n",
       "      <th>votedBy</th>\n",
       "      <th>ballots</th>\n",
       "      <th>needed</th>\n",
       "      <th>votes</th>\n",
       "      <th>inducted</th>\n",
       "      <th>category</th>\n",
       "      <th>needed_note</th>\n",
       "    </tr>\n",
       "  </thead>\n",
       "  <tbody>\n",
       "    <tr>\n",
       "      <th>0</th>\n",
       "      <td>1</td>\n",
       "      <td>cobbty01</td>\n",
       "      <td>1936</td>\n",
       "      <td>BBWAA</td>\n",
       "      <td>226.0</td>\n",
       "      <td>170.0</td>\n",
       "      <td>222.0</td>\n",
       "      <td>Y</td>\n",
       "      <td>Player</td>\n",
       "      <td>None</td>\n",
       "    </tr>\n",
       "    <tr>\n",
       "      <th>1</th>\n",
       "      <td>2</td>\n",
       "      <td>ruthba01</td>\n",
       "      <td>1936</td>\n",
       "      <td>BBWAA</td>\n",
       "      <td>226.0</td>\n",
       "      <td>170.0</td>\n",
       "      <td>215.0</td>\n",
       "      <td>Y</td>\n",
       "      <td>Player</td>\n",
       "      <td>None</td>\n",
       "    </tr>\n",
       "    <tr>\n",
       "      <th>2</th>\n",
       "      <td>3</td>\n",
       "      <td>wagneho01</td>\n",
       "      <td>1936</td>\n",
       "      <td>BBWAA</td>\n",
       "      <td>226.0</td>\n",
       "      <td>170.0</td>\n",
       "      <td>215.0</td>\n",
       "      <td>Y</td>\n",
       "      <td>Player</td>\n",
       "      <td>None</td>\n",
       "    </tr>\n",
       "    <tr>\n",
       "      <th>3</th>\n",
       "      <td>4</td>\n",
       "      <td>mathech01</td>\n",
       "      <td>1936</td>\n",
       "      <td>BBWAA</td>\n",
       "      <td>226.0</td>\n",
       "      <td>170.0</td>\n",
       "      <td>205.0</td>\n",
       "      <td>Y</td>\n",
       "      <td>Player</td>\n",
       "      <td>None</td>\n",
       "    </tr>\n",
       "    <tr>\n",
       "      <th>4</th>\n",
       "      <td>5</td>\n",
       "      <td>johnswa01</td>\n",
       "      <td>1936</td>\n",
       "      <td>BBWAA</td>\n",
       "      <td>226.0</td>\n",
       "      <td>170.0</td>\n",
       "      <td>189.0</td>\n",
       "      <td>Y</td>\n",
       "      <td>Player</td>\n",
       "      <td>None</td>\n",
       "    </tr>\n",
       "    <tr>\n",
       "      <th>...</th>\n",
       "      <td>...</td>\n",
       "      <td>...</td>\n",
       "      <td>...</td>\n",
       "      <td>...</td>\n",
       "      <td>...</td>\n",
       "      <td>...</td>\n",
       "      <td>...</td>\n",
       "      <td>...</td>\n",
       "      <td>...</td>\n",
       "      <td>...</td>\n",
       "    </tr>\n",
       "    <tr>\n",
       "      <th>4061</th>\n",
       "      <td>4187</td>\n",
       "      <td>lidgebr01</td>\n",
       "      <td>2018</td>\n",
       "      <td>BBWAA</td>\n",
       "      <td>422.0</td>\n",
       "      <td>317.0</td>\n",
       "      <td>0.0</td>\n",
       "      <td>N</td>\n",
       "      <td>Player</td>\n",
       "      <td>None</td>\n",
       "    </tr>\n",
       "    <tr>\n",
       "      <th>4062</th>\n",
       "      <td>4188</td>\n",
       "      <td>millwke01</td>\n",
       "      <td>2018</td>\n",
       "      <td>BBWAA</td>\n",
       "      <td>422.0</td>\n",
       "      <td>317.0</td>\n",
       "      <td>0.0</td>\n",
       "      <td>N</td>\n",
       "      <td>Player</td>\n",
       "      <td>None</td>\n",
       "    </tr>\n",
       "    <tr>\n",
       "      <th>4063</th>\n",
       "      <td>4189</td>\n",
       "      <td>zambrca01</td>\n",
       "      <td>2018</td>\n",
       "      <td>BBWAA</td>\n",
       "      <td>422.0</td>\n",
       "      <td>317.0</td>\n",
       "      <td>0.0</td>\n",
       "      <td>N</td>\n",
       "      <td>Player</td>\n",
       "      <td>None</td>\n",
       "    </tr>\n",
       "    <tr>\n",
       "      <th>4064</th>\n",
       "      <td>4190</td>\n",
       "      <td>morrija02</td>\n",
       "      <td>2018</td>\n",
       "      <td>Veterans</td>\n",
       "      <td>NaN</td>\n",
       "      <td>NaN</td>\n",
       "      <td>NaN</td>\n",
       "      <td>Y</td>\n",
       "      <td>Player</td>\n",
       "      <td>None</td>\n",
       "    </tr>\n",
       "    <tr>\n",
       "      <th>4065</th>\n",
       "      <td>4191</td>\n",
       "      <td>trammal01</td>\n",
       "      <td>2018</td>\n",
       "      <td>Veterans</td>\n",
       "      <td>NaN</td>\n",
       "      <td>NaN</td>\n",
       "      <td>NaN</td>\n",
       "      <td>Y</td>\n",
       "      <td>Player</td>\n",
       "      <td>None</td>\n",
       "    </tr>\n",
       "  </tbody>\n",
       "</table>\n",
       "<p>4066 rows × 10 columns</p>\n",
       "</div>"
      ],
      "text/plain": [
       "        ID   playerID  yearid   votedBy  ballots  needed  votes inducted  \\\n",
       "0        1   cobbty01    1936     BBWAA    226.0   170.0  222.0        Y   \n",
       "1        2   ruthba01    1936     BBWAA    226.0   170.0  215.0        Y   \n",
       "2        3  wagneho01    1936     BBWAA    226.0   170.0  215.0        Y   \n",
       "3        4  mathech01    1936     BBWAA    226.0   170.0  205.0        Y   \n",
       "4        5  johnswa01    1936     BBWAA    226.0   170.0  189.0        Y   \n",
       "...    ...        ...     ...       ...      ...     ...    ...      ...   \n",
       "4061  4187  lidgebr01    2018     BBWAA    422.0   317.0    0.0        N   \n",
       "4062  4188  millwke01    2018     BBWAA    422.0   317.0    0.0        N   \n",
       "4063  4189  zambrca01    2018     BBWAA    422.0   317.0    0.0        N   \n",
       "4064  4190  morrija02    2018  Veterans      NaN     NaN    NaN        Y   \n",
       "4065  4191  trammal01    2018  Veterans      NaN     NaN    NaN        Y   \n",
       "\n",
       "     category needed_note  \n",
       "0      Player        None  \n",
       "1      Player        None  \n",
       "2      Player        None  \n",
       "3      Player        None  \n",
       "4      Player        None  \n",
       "...       ...         ...  \n",
       "4061   Player        None  \n",
       "4062   Player        None  \n",
       "4063   Player        None  \n",
       "4064   Player        None  \n",
       "4065   Player        None  \n",
       "\n",
       "[4066 rows x 10 columns]"
      ]
     },
     "execution_count": 12,
     "metadata": {},
     "output_type": "execute_result"
    }
   ],
   "source": [
    "players.execute() # take a look at this table"
   ]
  },
  {
   "cell_type": "markdown",
   "metadata": {},
   "source": [
    "## Joining Ibis tables"
   ]
  },
  {
   "cell_type": "markdown",
   "metadata": {},
   "source": [
    "If we want a single view of the `halloffame` players and their appearances, we need to [join](https://en.wikipedia.org/wiki/Join_(SQL)) the tables `halloffame` and `appearances`. To do this, we’ll perform an [inner join](https://stackoverflow.com/questions/38549/what-is-the-difference-between-inner-join-and-outer-join) based on the `playerID` columns of our `players` & `appearances` tables."
   ]
  },
  {
   "cell_type": "code",
   "execution_count": 13,
   "metadata": {},
   "outputs": [],
   "source": [
    "condition = players.playerID == appearances.playerID"
   ]
  },
  {
   "cell_type": "markdown",
   "metadata": {},
   "source": [
    "We notice that both the `players` and the `appearances` tables each have a column labelled `ID`. This column needs to be excluded from `appearances`; otherwise the overlapping columns will corrupt the computed join. Specifically, we want to filter out the `ID` and `playerID` columns from the `appearances` table. One strategy to do this is to use a list comprehension."
   ]
  },
  {
   "cell_type": "code",
   "execution_count": 14,
   "metadata": {},
   "outputs": [],
   "source": [
    "columns = [col for col in appearances.columns if col not in ('playerID', 'ID')]"
   ]
  },
  {
   "cell_type": "markdown",
   "metadata": {},
   "source": [
    "Now, we use the [`TableExpr.join` method](https://docs.ibis-project.org/docs/generated/ibis.expr.api.TableExpr.join.html#ibis.expr.api.TableExpr.join) to compute an inner join of the `players` table and the filtered `appearances` table; the result is bound to the identifier `unmaterialized`."
   ]
  },
  {
   "cell_type": "code",
   "execution_count": 15,
   "metadata": {},
   "outputs": [],
   "source": [
    "unmaterialized = players.join(appearances[columns], condition)"
   ]
  },
  {
   "cell_type": "markdown",
   "metadata": {},
   "source": [
    "## Materializing the join"
   ]
  },
  {
   "cell_type": "markdown",
   "metadata": {},
   "source": [
    "We used the identifier `unmaterialized` just above to emphasize that the resulting expression is *not* a [materialized view](https://en.wikipedia.org/wiki/Materialized_view) (that would be required to build new expressions). Without a materialized view, Ibis raises an exception (as demonstrated here)."
   ]
  },
  {
   "cell_type": "code",
   "execution_count": 16,
   "metadata": {},
   "outputs": [
    {
     "name": "stdout",
     "output_type": "stream",
     "text": [
      "Unable to execute \"unmaterialized.distinct()\"\n",
      "IbisError('Table operation is not yet materialized')\n"
     ]
    }
   ],
   "source": [
    "try:\n",
    "    unmaterialized.distinct()\n",
    "except Exception as e:\n",
    "    print('Unable to execute \"unmaterialized.distinct()\"')\n",
    "    print(repr(e))"
   ]
  },
  {
   "cell_type": "markdown",
   "metadata": {},
   "source": [
    "The [`distinct` method](https://docs.ibis-project.org/docs/generated/ibis.expr.api.TableExpr.distinct.html#ibis.expr.api.TableExpr.distinct) in the preceding code behaves like the [Pandas `DataFrame.drop_duplicates` method](https://pandas.pydata.org/docs/reference/api/pandas.DataFrame.drop_duplicates.html), i.e., it drops duplicated rows. We can obtain such a materialized view to circumvent the exception above using the expression's `materialize` method."
   ]
  },
  {
   "cell_type": "code",
   "execution_count": 17,
   "metadata": {},
   "outputs": [],
   "source": [
    "join = unmaterialized.materialize().distinct()"
   ]
  },
  {
   "cell_type": "markdown",
   "metadata": {},
   "source": [
    "The code above completes the join and binds the resulting expression to the materialized object `join`; here is a sample of the leading five rows of our joined data (notice the result has 31 columns)."
   ]
  },
  {
   "cell_type": "code",
   "execution_count": 18,
   "metadata": {},
   "outputs": [
    {
     "data": {
      "text/html": [
       "<div>\n",
       "<style scoped>\n",
       "    .dataframe tbody tr th:only-of-type {\n",
       "        vertical-align: middle;\n",
       "    }\n",
       "\n",
       "    .dataframe tbody tr th {\n",
       "        vertical-align: top;\n",
       "    }\n",
       "\n",
       "    .dataframe thead th {\n",
       "        text-align: right;\n",
       "    }\n",
       "</style>\n",
       "<table border=\"1\" class=\"dataframe\">\n",
       "  <thead>\n",
       "    <tr style=\"text-align: right;\">\n",
       "      <th></th>\n",
       "      <th>ID</th>\n",
       "      <th>playerID</th>\n",
       "      <th>yearid</th>\n",
       "      <th>votedBy</th>\n",
       "      <th>ballots</th>\n",
       "      <th>needed</th>\n",
       "      <th>votes</th>\n",
       "      <th>inducted</th>\n",
       "      <th>category</th>\n",
       "      <th>needed_note</th>\n",
       "      <th>...</th>\n",
       "      <th>G_2b</th>\n",
       "      <th>G_3b</th>\n",
       "      <th>G_ss</th>\n",
       "      <th>G_lf</th>\n",
       "      <th>G_cf</th>\n",
       "      <th>G_rf</th>\n",
       "      <th>G_of</th>\n",
       "      <th>G_dh</th>\n",
       "      <th>G_ph</th>\n",
       "      <th>G_pr</th>\n",
       "    </tr>\n",
       "  </thead>\n",
       "  <tbody>\n",
       "    <tr>\n",
       "      <th>0</th>\n",
       "      <td>2861</td>\n",
       "      <td>aaronha01</td>\n",
       "      <td>1982</td>\n",
       "      <td>BBWAA</td>\n",
       "      <td>415</td>\n",
       "      <td>312</td>\n",
       "      <td>406</td>\n",
       "      <td>Y</td>\n",
       "      <td>Player</td>\n",
       "      <td>None</td>\n",
       "      <td>...</td>\n",
       "      <td>16</td>\n",
       "      <td>0</td>\n",
       "      <td>15</td>\n",
       "      <td>0</td>\n",
       "      <td>0</td>\n",
       "      <td>0</td>\n",
       "      <td>0</td>\n",
       "      <td>0</td>\n",
       "      <td>0</td>\n",
       "      <td>0</td>\n",
       "    </tr>\n",
       "    <tr>\n",
       "      <th>1</th>\n",
       "      <td>3744</td>\n",
       "      <td>abbotji01</td>\n",
       "      <td>2005</td>\n",
       "      <td>BBWAA</td>\n",
       "      <td>516</td>\n",
       "      <td>387</td>\n",
       "      <td>13</td>\n",
       "      <td>N</td>\n",
       "      <td>Player</td>\n",
       "      <td>None</td>\n",
       "      <td>...</td>\n",
       "      <td>16</td>\n",
       "      <td>0</td>\n",
       "      <td>15</td>\n",
       "      <td>0</td>\n",
       "      <td>0</td>\n",
       "      <td>0</td>\n",
       "      <td>0</td>\n",
       "      <td>0</td>\n",
       "      <td>0</td>\n",
       "      <td>0</td>\n",
       "    </tr>\n",
       "    <tr>\n",
       "      <th>2</th>\n",
       "      <td>147</td>\n",
       "      <td>adamsba01</td>\n",
       "      <td>1937</td>\n",
       "      <td>BBWAA</td>\n",
       "      <td>201</td>\n",
       "      <td>151</td>\n",
       "      <td>8</td>\n",
       "      <td>N</td>\n",
       "      <td>Player</td>\n",
       "      <td>None</td>\n",
       "      <td>...</td>\n",
       "      <td>16</td>\n",
       "      <td>0</td>\n",
       "      <td>15</td>\n",
       "      <td>0</td>\n",
       "      <td>0</td>\n",
       "      <td>0</td>\n",
       "      <td>0</td>\n",
       "      <td>0</td>\n",
       "      <td>0</td>\n",
       "      <td>0</td>\n",
       "    </tr>\n",
       "    <tr>\n",
       "      <th>3</th>\n",
       "      <td>260</td>\n",
       "      <td>adamsba01</td>\n",
       "      <td>1938</td>\n",
       "      <td>BBWAA</td>\n",
       "      <td>262</td>\n",
       "      <td>197</td>\n",
       "      <td>11</td>\n",
       "      <td>N</td>\n",
       "      <td>Player</td>\n",
       "      <td>None</td>\n",
       "      <td>...</td>\n",
       "      <td>16</td>\n",
       "      <td>0</td>\n",
       "      <td>15</td>\n",
       "      <td>0</td>\n",
       "      <td>0</td>\n",
       "      <td>0</td>\n",
       "      <td>0</td>\n",
       "      <td>0</td>\n",
       "      <td>0</td>\n",
       "      <td>0</td>\n",
       "    </tr>\n",
       "    <tr>\n",
       "      <th>4</th>\n",
       "      <td>385</td>\n",
       "      <td>adamsba01</td>\n",
       "      <td>1939</td>\n",
       "      <td>BBWAA</td>\n",
       "      <td>274</td>\n",
       "      <td>206</td>\n",
       "      <td>11</td>\n",
       "      <td>N</td>\n",
       "      <td>Player</td>\n",
       "      <td>None</td>\n",
       "      <td>...</td>\n",
       "      <td>16</td>\n",
       "      <td>0</td>\n",
       "      <td>15</td>\n",
       "      <td>0</td>\n",
       "      <td>0</td>\n",
       "      <td>0</td>\n",
       "      <td>0</td>\n",
       "      <td>0</td>\n",
       "      <td>0</td>\n",
       "      <td>0</td>\n",
       "    </tr>\n",
       "  </tbody>\n",
       "</table>\n",
       "<p>5 rows × 31 columns</p>\n",
       "</div>"
      ],
      "text/plain": [
       "     ID   playerID  yearid votedBy  ballots  needed  votes inducted category  \\\n",
       "0  2861  aaronha01    1982   BBWAA      415     312    406        Y   Player   \n",
       "1  3744  abbotji01    2005   BBWAA      516     387     13        N   Player   \n",
       "2   147  adamsba01    1937   BBWAA      201     151      8        N   Player   \n",
       "3   260  adamsba01    1938   BBWAA      262     197     11        N   Player   \n",
       "4   385  adamsba01    1939   BBWAA      274     206     11        N   Player   \n",
       "\n",
       "  needed_note  ...  G_2b G_3b  G_ss G_lf  G_cf  G_rf  G_of  G_dh  G_ph  G_pr  \n",
       "0        None  ...    16    0    15    0     0     0     0     0     0     0  \n",
       "1        None  ...    16    0    15    0     0     0     0     0     0     0  \n",
       "2        None  ...    16    0    15    0     0     0     0     0     0     0  \n",
       "3        None  ...    16    0    15    0     0     0     0     0     0     0  \n",
       "4        None  ...    16    0    15    0     0     0     0     0     0     0  \n",
       "\n",
       "[5 rows x 31 columns]"
      ]
     },
     "execution_count": 18,
     "metadata": {},
     "output_type": "execute_result"
    }
   ],
   "source": [
    "join.head().execute()"
   ]
  },
  {
   "cell_type": "markdown",
   "metadata": {},
   "source": [
    "Ibis supports other join strategies as methods of the class `TableExpr`. The following list comprehension shows us what they are."
   ]
  },
  {
   "cell_type": "code",
   "execution_count": 19,
   "metadata": {},
   "outputs": [
    {
     "data": {
      "text/plain": [
       "['anti_join',\n",
       " 'any_inner_join',\n",
       " 'any_left_join',\n",
       " 'asof_join',\n",
       " 'cross_join',\n",
       " 'inner_join',\n",
       " 'join',\n",
       " 'left_join',\n",
       " 'outer_join',\n",
       " 'semi_join']"
      ]
     },
     "execution_count": 19,
     "metadata": {},
     "output_type": "execute_result"
    }
   ],
   "source": [
    "[method_name for method_name in dir(players) if 'join' in method_name]"
   ]
  },
  {
   "cell_type": "markdown",
   "metadata": {},
   "source": [
    "## Executing an expression"
   ]
  },
  {
   "cell_type": "markdown",
   "metadata": {},
   "source": [
    "We'll now expand the expression `join` as a Pandas DataFrame object. We'll use this DataFrame to answer the following question:\n",
    "\n",
    "<center>\n",
    "How many pitchers have been inducted into the hall of fame?\n",
    "</center>\n",
    "\n",
    "Some of the \"hitters\" have also been \"pitchers\", so we’ll need to filter out rows corresponding to those appearances from the table `join`. That is, to identify a specific player as a \"pitcher\", we’ll choose those players who played *mostly* as pitchers; in particular, we’ll take 100 games as an arbitrary threshold between pitchers and non-pitchers. The column `G_p` from the table `join` represents the numbers of games a player played as a pitcher; the desired filtering expression, then, is as follows:"
   ]
  },
  {
   "cell_type": "code",
   "execution_count": 20,
   "metadata": {},
   "outputs": [],
   "source": [
    "pitchers = join[join.G_p > 100]"
   ]
  },
  {
   "cell_type": "markdown",
   "metadata": {},
   "source": [
    "Next, we group the `pitchers` table based on a specific pair of columns (stored as a list `cols`) and then count them annually using a `groupby` with a `count` aggregation."
   ]
  },
  {
   "cell_type": "code",
   "execution_count": 21,
   "metadata": {},
   "outputs": [],
   "source": [
    "cols = [pitchers.inducted, pitchers.yearID]\n",
    "grouped_pitchers = pitchers.groupby(cols).count()"
   ]
  },
  {
   "cell_type": "markdown",
   "metadata": {},
   "source": [
    "The expression `grouped_pitchers` is still an Ibis `TableExpr`; as we've seen several times now, it can be realized as a Pandas DataFrame using the `execute` method. The resulting DataFrame's index can be set as a multi-index using the `inducted` and `yearID` columns."
   ]
  },
  {
   "cell_type": "code",
   "execution_count": 22,
   "metadata": {},
   "outputs": [
    {
     "data": {
      "text/html": [
       "<div>\n",
       "<style scoped>\n",
       "    .dataframe tbody tr th:only-of-type {\n",
       "        vertical-align: middle;\n",
       "    }\n",
       "\n",
       "    .dataframe tbody tr th {\n",
       "        vertical-align: top;\n",
       "    }\n",
       "\n",
       "    .dataframe thead th {\n",
       "        text-align: right;\n",
       "    }\n",
       "</style>\n",
       "<table border=\"1\" class=\"dataframe\">\n",
       "  <thead>\n",
       "    <tr style=\"text-align: right;\">\n",
       "      <th></th>\n",
       "      <th></th>\n",
       "      <th>count</th>\n",
       "    </tr>\n",
       "    <tr>\n",
       "      <th>inducted</th>\n",
       "      <th>yearID</th>\n",
       "      <th></th>\n",
       "    </tr>\n",
       "  </thead>\n",
       "  <tbody>\n",
       "    <tr>\n",
       "      <th rowspan=\"5\" valign=\"top\">N</th>\n",
       "      <th>1936</th>\n",
       "      <td>105</td>\n",
       "    </tr>\n",
       "    <tr>\n",
       "      <th>1937</th>\n",
       "      <td>106</td>\n",
       "    </tr>\n",
       "    <tr>\n",
       "      <th>1938</th>\n",
       "      <td>114</td>\n",
       "    </tr>\n",
       "    <tr>\n",
       "      <th>1939</th>\n",
       "      <td>99</td>\n",
       "    </tr>\n",
       "    <tr>\n",
       "      <th>1942</th>\n",
       "      <td>67</td>\n",
       "    </tr>\n",
       "    <tr>\n",
       "      <th>...</th>\n",
       "      <th>...</th>\n",
       "      <td>...</td>\n",
       "    </tr>\n",
       "    <tr>\n",
       "      <th rowspan=\"5\" valign=\"top\">Y</th>\n",
       "      <th>2014</th>\n",
       "      <td>3</td>\n",
       "    </tr>\n",
       "    <tr>\n",
       "      <th>2015</th>\n",
       "      <td>4</td>\n",
       "    </tr>\n",
       "    <tr>\n",
       "      <th>2016</th>\n",
       "      <td>2</td>\n",
       "    </tr>\n",
       "    <tr>\n",
       "      <th>2017</th>\n",
       "      <td>3</td>\n",
       "    </tr>\n",
       "    <tr>\n",
       "      <th>2018</th>\n",
       "      <td>6</td>\n",
       "    </tr>\n",
       "  </tbody>\n",
       "</table>\n",
       "<p>150 rows × 1 columns</p>\n",
       "</div>"
      ],
      "text/plain": [
       "                 count\n",
       "inducted yearID       \n",
       "N        1936      105\n",
       "         1937      106\n",
       "         1938      114\n",
       "         1939       99\n",
       "         1942       67\n",
       "...                ...\n",
       "Y        2014        3\n",
       "         2015        4\n",
       "         2016        2\n",
       "         2017        3\n",
       "         2018        6\n",
       "\n",
       "[150 rows x 1 columns]"
      ]
     },
     "execution_count": 22,
     "metadata": {},
     "output_type": "execute_result"
    }
   ],
   "source": [
    "df = grouped_pitchers.execute().set_index('inducted yearID'.split())\n",
    "df"
   ]
  },
  {
   "cell_type": "markdown",
   "metadata": {},
   "source": [
    "The dataframe `df` has counts of the number of pitchers who were (`inducted` index `'Y'`) and were not (`inducted` index `'N'`) inducted into the baseball Hall of Fame in a given year. We'll pull in all the relevant counts of inductees into a dataframe `count_inducted_pitchers`. Notice the use of the Pandas `DataFrame.fillna` method to assign 0s in rows appropriately (i.e., reflecting that no pitchers were inducted into the Hall of Fame in those years)."
   ]
  },
  {
   "cell_type": "code",
   "execution_count": 23,
   "metadata": {},
   "outputs": [
    {
     "data": {
      "text/html": [
       "<div>\n",
       "<style scoped>\n",
       "    .dataframe tbody tr th:only-of-type {\n",
       "        vertical-align: middle;\n",
       "    }\n",
       "\n",
       "    .dataframe tbody tr th {\n",
       "        vertical-align: top;\n",
       "    }\n",
       "\n",
       "    .dataframe thead th {\n",
       "        text-align: right;\n",
       "    }\n",
       "</style>\n",
       "<table border=\"1\" class=\"dataframe\">\n",
       "  <thead>\n",
       "    <tr style=\"text-align: right;\">\n",
       "      <th></th>\n",
       "      <th>count</th>\n",
       "    </tr>\n",
       "    <tr>\n",
       "      <th>yearID</th>\n",
       "      <th></th>\n",
       "    </tr>\n",
       "  </thead>\n",
       "  <tbody>\n",
       "    <tr>\n",
       "      <th>1936</th>\n",
       "      <td>5</td>\n",
       "    </tr>\n",
       "    <tr>\n",
       "      <th>1937</th>\n",
       "      <td>3</td>\n",
       "    </tr>\n",
       "    <tr>\n",
       "      <th>1938</th>\n",
       "      <td>1</td>\n",
       "    </tr>\n",
       "    <tr>\n",
       "      <th>1939</th>\n",
       "      <td>7</td>\n",
       "    </tr>\n",
       "    <tr>\n",
       "      <th>1942</th>\n",
       "      <td>1</td>\n",
       "    </tr>\n",
       "    <tr>\n",
       "      <th>...</th>\n",
       "      <td>...</td>\n",
       "    </tr>\n",
       "    <tr>\n",
       "      <th>2014</th>\n",
       "      <td>3</td>\n",
       "    </tr>\n",
       "    <tr>\n",
       "      <th>2015</th>\n",
       "      <td>4</td>\n",
       "    </tr>\n",
       "    <tr>\n",
       "      <th>2016</th>\n",
       "      <td>2</td>\n",
       "    </tr>\n",
       "    <tr>\n",
       "      <th>2017</th>\n",
       "      <td>3</td>\n",
       "    </tr>\n",
       "    <tr>\n",
       "      <th>2018</th>\n",
       "      <td>6</td>\n",
       "    </tr>\n",
       "  </tbody>\n",
       "</table>\n",
       "<p>76 rows × 1 columns</p>\n",
       "</div>"
      ],
      "text/plain": [
       "        count\n",
       "yearID       \n",
       "1936        5\n",
       "1937        3\n",
       "1938        1\n",
       "1939        7\n",
       "1942        1\n",
       "...       ...\n",
       "2014        3\n",
       "2015        4\n",
       "2016        2\n",
       "2017        3\n",
       "2018        6\n",
       "\n",
       "[76 rows x 1 columns]"
      ]
     },
     "execution_count": 23,
     "metadata": {},
     "output_type": "execute_result"
    }
   ],
   "source": [
    "count_inducted_pitchers = df.loc['Y'].fillna(0).rename({'count':'Inducted pitchers'})\n",
    "count_inducted_pitchers"
   ]
  },
  {
   "cell_type": "markdown",
   "metadata": {},
   "source": [
    "The Pandas `DataFrame` & `Series` classes have a convenient plotting interface. We'll use a dictionary `options` to specify keyword arguments to tidy the final invokation of [`plot.bar`](https://pandas.pydata.org/docs/reference/api/pandas.DataFrame.plot.bar.html)."
   ]
  },
  {
   "cell_type": "code",
   "execution_count": 24,
   "metadata": {},
   "outputs": [
    {
     "data": {
      "image/png": "[encoded data removed]",
      "text/plain": [
       "<Figure size 1080x360 with 1 Axes>"
      ]
     },
     "metadata": {
      "needs_background": "light"
     },
     "output_type": "display_data"
    }
   ],
   "source": [
    "options = dict(figsize=(15, 5), grid=True, legend=None)\n",
    "count_inducted_pitchers.plot.bar(**options);"
   ]
  },
  {
   "cell_type": "markdown",
   "metadata": {},
   "source": [
    "## What next?\n",
    "\n",
    "That's it! In future posts, we’ll explore other backends and visualize more Ibis objects. If you’d like to contribute to Ibis, please take a look at\n",
    "[Ibis contributing guide](https://docs.ibis-project.org/contributing.html) and [OpenTeams](https://openteams.com/)."
   ]
  }
 ],
 "metadata": {
  "kernelspec": {
   "display_name": "Python 3",
   "language": "python",
   "name": "python3"
  },
  "language_info": {
   "codemirror_mode": {
    "name": "ipython",
    "version": 3
   },
   "file_extension": ".py",
   "mimetype": "text/x-python",
   "name": "python",
   "nbconvert_exporter": "python",
   "pygments_lexer": "ipython3",
   "version": "3.9.10"
  },
  "nikola": {
   "author": "Tony Fast",
   "date": "2020-06-26 14:20:54 UTC-05:00",
   "slug": "ibis-an-idiomatic-flavor-of-sql-for-python-programmers",
   "tags": "Ibis, SQL, Python",
   "title": "Ibis: an idiomatic flavor of SQL for Python programmers"
  }
 },
 "nbformat": 4,
 "nbformat_minor": 4
}
