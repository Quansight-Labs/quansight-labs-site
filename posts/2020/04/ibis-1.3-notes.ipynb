{
 "cells": [
  {
   "cell_type": "markdown",
   "metadata": {},
   "source": [
    "Ibis framework 1.3 was just released, after 8 months of development work with 104 new commits from 16 distinct contributors. What is new? In this blog post we will check some important highlighted features about this new version!\n",
    "\n",
    "First, if you are new to Ibis framework world, you can check this [blog-post](https://labs.quansight.org/blog/2019/07/ibis-python-data-analysis-productivity-framework/) wrote last year with some introductory information about that.\n",
    "\n",
    "Some hightlighted features of this new version are:\n",
    "\n",
    "\n",
    "* Addition of `PySpark` backend\n",
    "* Improvement of geospatial support\n",
    "* Addition of `JSON`, `JSONB` and `UUID` data types\n",
    "* Initial support for `Python 3.8` added.\n",
    "* Support for `Python 3.5` dropped.\n",
    "* Added new backends and geospatial methods to the documentation\n",
    "* Renaming `mapd` backend to `omniscidb`\n",
    "\n",
    "This blog post is divided into different sections:\n",
    "\n",
    "* OmniSciDB\n",
    "* PostgreSQL\n",
    "* PySpark\n",
    "* Geospatial support\n",
    "* Python versions support"
   ]
  },
  {
   "cell_type": "code",
   "execution_count": 1,
   "metadata": {},
   "outputs": [],
   "source": [
    "import ibis\n",
    "import pandas as pd"
   ]
  },
  {
   "cell_type": "markdown",
   "metadata": {},
   "source": [
    "### OmniSciDB notes\n",
    "\n",
    "Remember, `mapd` backend now is `omniscidb`! \n",
    "\n",
    "A important feature on `omniscidb` is that now you can define if the connection is `IPC` and you can also specify the `GPU` device ID you want to use it (if you have a NVIDIA card, supported by `cudf`).\n",
    "\n",
    "The `IPC` or `Inter-Process Communication` is used to provide shared data support between process. OmniSciDB uses Apache Arrow to provide IPC support."
   ]
  },
  {
   "cell_type": "code",
   "execution_count": 2,
   "metadata": {},
   "outputs": [
    {
     "data": {
      "text/plain": [
       "['diamonds', 'batting', 'awards_players', 'functional_alltypes', 'geo']"
      ]
     },
     "execution_count": 2,
     "metadata": {},
     "output_type": "execute_result"
    }
   ],
   "source": [
    "con_omni = ibis.omniscidb.connect(\n",
    "    host='localhost', \n",
    "    port='6274',\n",
    "    user='admin',\n",
    "    password='HyperInteractive',\n",
    "    database='ibis_testing',\n",
    "    ipc=False,\n",
    "    gpu_device=None\n",
    ")\n",
    "con_omni.list_tables()"
   ]
  },
  {
   "cell_type": "markdown",
   "metadata": {},
   "source": [
    "Also now you can specify `ipc` or `gpu_device` directly to the `execute` method:"
   ]
  },
  {
   "cell_type": "code",
   "execution_count": 3,
   "metadata": {},
   "outputs": [
    {
     "data": {
      "text/html": [
       "<div>\n",
       "<style scoped>\n",
       "    .dataframe tbody tr th:only-of-type {\n",
       "        vertical-align: middle;\n",
       "    }\n",
       "\n",
       "    .dataframe tbody tr th {\n",
       "        vertical-align: top;\n",
       "    }\n",
       "\n",
       "    .dataframe thead th {\n",
       "        text-align: right;\n",
       "    }\n",
       "</style>\n",
       "<table border=\"1\" class=\"dataframe\">\n",
       "  <thead>\n",
       "    <tr style=\"text-align: right;\">\n",
       "      <th></th>\n",
       "      <th>id</th>\n",
       "      <th>bool_col</th>\n",
       "    </tr>\n",
       "  </thead>\n",
       "  <tbody>\n",
       "    <tr>\n",
       "      <th>0</th>\n",
       "      <td>6690</td>\n",
       "      <td>True</td>\n",
       "    </tr>\n",
       "    <tr>\n",
       "      <th>1</th>\n",
       "      <td>6691</td>\n",
       "      <td>False</td>\n",
       "    </tr>\n",
       "    <tr>\n",
       "      <th>2</th>\n",
       "      <td>6692</td>\n",
       "      <td>True</td>\n",
       "    </tr>\n",
       "    <tr>\n",
       "      <th>3</th>\n",
       "      <td>6693</td>\n",
       "      <td>False</td>\n",
       "    </tr>\n",
       "    <tr>\n",
       "      <th>4</th>\n",
       "      <td>6694</td>\n",
       "      <td>True</td>\n",
       "    </tr>\n",
       "  </tbody>\n",
       "</table>\n",
       "</div>"
      ],
      "text/plain": [
       "     id  bool_col\n",
       "0  6690      True\n",
       "1  6691     False\n",
       "2  6692      True\n",
       "3  6693     False\n",
       "4  6694      True"
      ]
     },
     "execution_count": 3,
     "metadata": {},
     "output_type": "execute_result"
    }
   ],
   "source": [
    "t = con_omni.table('functional_alltypes')\n",
    "expr = t[['id', 'bool_col']].head(5)\n",
    "df = expr.execute(ipc=False, gpu_device=None)\n",
    "df"
   ]
  },
  {
   "cell_type": "markdown",
   "metadata": {},
   "source": [
    "As you can imagine, the result of `df` is a `pandas.DataFrame` "
   ]
  },
  {
   "cell_type": "code",
   "execution_count": 4,
   "metadata": {},
   "outputs": [
    {
     "data": {
      "text/plain": [
       "pandas.core.frame.DataFrame"
      ]
     },
     "execution_count": 4,
     "metadata": {},
     "output_type": "execute_result"
    }
   ],
   "source": [
    "type(df)"
   ]
  },
  {
   "cell_type": "markdown",
   "metadata": {},
   "source": [
    "But if you are using `gpu_device` the result would be a `cudf` :)"
   ]
  },
  {
   "cell_type": "markdown",
   "metadata": {},
   "source": [
    "<small>\n",
    "\n",
    "> Note: when IPC=True is used, the code needs to be executed in the same machine where the database is running\n",
    "\n",
    "> Note: when gpu_device is used, 1) it uses IPC (see the note above) and 2) it needs a NVIDIA card supported by  `cudf`.\n",
    "</small>\n",
    "\n",
    "Another interesting feature is that now `omniscidb` also supports `shapefiles` (input) and `geopandas` (output)!\n",
    "\n",
    "Check out `Geospatial notes` section below to see more details!\n",
    "\n",
    "Also the new version adds translations for more window operations for `omniscidb` backend, such as: \n",
    "`DenseRank`, `RowNumber`, `MinRank`, `Count`, [`PercentRank/CumeDist`](https://github.com/ibis-project/ibis/issues/1975).\n",
    "\n",
    "For more information about `window operation` check the \n",
    "[Window functions](https://docs.ibis-project.org/sql.html#window-functions)\n",
    "documentation section."
   ]
  },
  {
   "cell_type": "markdown",
   "metadata": {},
   "source": [
    "### PostgreSQL notes\n",
    "\n",
    "Some of the highlighted features for `PostgreSQL` backend are new data types included, such as:\n",
    "`JSON`, `JSONB` and `UUID`."
   ]
  },
  {
   "cell_type": "code",
   "execution_count": 5,
   "metadata": {},
   "outputs": [
    {
     "data": {
      "image/png": "[encoded data removed]",
      "text/plain": [
       "Equals[boolean]\n",
       "  left:\n",
       "    Literal[uuid]\n",
       "      2365b1d3-5f0b-4bf3-a7ef-ec3b70f5410d\n",
       "  right:\n",
       "    Literal[uuid]\n",
       "      95c122c4-5abc-4b96-af70-f15b85ad0889"
      ]
     },
     "execution_count": 5,
     "metadata": {},
     "output_type": "execute_result"
    }
   ],
   "source": [
    "from uuid import uuid4 \n",
    "uuid_value = ibis.literal(uuid4(), type='uuid')\n",
    "uuid_value == ibis.literal(uuid4(), type='uuid')"
   ]
  },
  {
   "cell_type": "code",
   "execution_count": 6,
   "metadata": {},
   "outputs": [
    {
     "data": {
      "image/png": "[encoded data removed]",
      "text/plain": [
       "Literal[json]\n",
       "  {\"id\": 1}"
      ]
     },
     "execution_count": 6,
     "metadata": {},
     "output_type": "execute_result"
    }
   ],
   "source": [
    "import json\n",
    "json_value = ibis.literal(json.dumps({\"id\": 1}), type='json')\n",
    "json_value"
   ]
  },
  {
   "cell_type": "code",
   "execution_count": 7,
   "metadata": {},
   "outputs": [
    {
     "data": {
      "image/png": "[encoded data removed]",
      "text/plain": [
       "Literal[jsonb]\n",
       "  b'{\"id\": 1}'"
      ]
     },
     "execution_count": 7,
     "metadata": {},
     "output_type": "execute_result"
    }
   ],
   "source": [
    "jsonb_value = ibis.literal(json.dumps({\"id\": 1}).encode('utf8'), type='jsonb')\n",
    "jsonb_value"
   ]
  },
  {
   "cell_type": "markdown",
   "metadata": {},
   "source": [
    "Another important new features on `PostgreSQL` backend was some new `geospatial` operations support, such as\n",
    "\n",
    "* GeometryType\n",
    "* GeometryN\n",
    "* IsValid\n",
    "* LineLocatePoint\n",
    "* LineMerge\n",
    "* LineSubstring\n",
    "* OrderingEquals\n",
    "* Union\n",
    "\n",
    "Also, it has now more two geospatial data type support: `MULTIPOINT` and `MULTILINESTRING`.\n",
    "\n",
    "Check out `Geospatial notes` section below to see some examples of geospatial operations usage!"
   ]
  },
  {
   "cell_type": "markdown",
   "metadata": {},
   "source": [
    "### PySpark notes\n",
    "\n",
    "This new version also includes support for a new backend: **PySpark**!\n",
    "\n",
    "Let's do the first steps with this new backend staring with a Spark session creation."
   ]
  },
  {
   "cell_type": "code",
   "execution_count": 8,
   "metadata": {},
   "outputs": [],
   "source": [
    "import os\n",
    "\n",
    "import pyspark\n",
    "from pyspark.sql import SparkSession\n",
    "import pyspark.sql.types as pt\n",
    "from pathlib import Path\n",
    "\n",
    "# spark session and pyspark connection\n",
    "spark_session = SparkSession.builder.getOrCreate()\n",
    "con_pyspark = ibis.pyspark.connect(session=spark_session)"
   ]
  },
  {
   "cell_type": "markdown",
   "metadata": {},
   "source": [
    "We can use `spark` or `pandas` for reading from `CSV` file. In this example, we will use `pandas`. "
   ]
  },
  {
   "cell_type": "code",
   "execution_count": 9,
   "metadata": {},
   "outputs": [
    {
     "name": "stdout",
     "output_type": "stream",
     "text": [
      "<class 'pandas.core.frame.DataFrame'>\n",
      "RangeIndex: 7300 entries, 0 to 7299\n",
      "Data columns (total 15 columns):\n",
      " #   Column           Non-Null Count  Dtype  \n",
      "---  ------           --------------  -----  \n",
      " 0   index            7300 non-null   int64  \n",
      " 1   Unnamed: 0       7300 non-null   int64  \n",
      " 2   id               7300 non-null   int64  \n",
      " 3   bool_col         7300 non-null   int64  \n",
      " 4   tinyint_col      7300 non-null   int64  \n",
      " 5   smallint_col     7300 non-null   int64  \n",
      " 6   int_col          7300 non-null   int64  \n",
      " 7   bigint_col       7300 non-null   int64  \n",
      " 8   float_col        7300 non-null   float64\n",
      " 9   double_col       7300 non-null   float64\n",
      " 10  date_string_col  7300 non-null   object \n",
      " 11  string_col       7300 non-null   int64  \n",
      " 12  timestamp_col    7300 non-null   object \n",
      " 13  year             7300 non-null   int64  \n",
      " 14  month            7300 non-null   int64  \n",
      "dtypes: float64(2), int64(11), object(2)\n",
      "memory usage: 855.6+ KB\n"
     ]
    }
   ],
   "source": [
    "data_directory = Path(\n",
    "    os.path.join(\n",
    "        os.path.dirname(ibis.__path__[0]),\n",
    "        'ci',\n",
    "        'ibis-testing-data'\n",
    "    )\n",
    ")\n",
    "\n",
    "pd_df_alltypes = pd.read_csv(data_directory / 'functional_alltypes.csv')\n",
    "pd_df_alltypes.info()"
   ]
  },
  {
   "cell_type": "markdown",
   "metadata": {},
   "source": [
    "Now, we can create a Spark DataFrame and we will create a temporary view from this data frame. Also we should enforce the desired types for each column."
   ]
  },
  {
   "cell_type": "code",
   "execution_count": 10,
   "metadata": {},
   "outputs": [
    {
     "data": {
      "text/plain": [
       "['functional_alltypes']"
      ]
     },
     "execution_count": 10,
     "metadata": {},
     "output_type": "execute_result"
    }
   ],
   "source": [
    "def pyspark_cast(df, col_types):\n",
    "    for col, dtype in col_types.items():\n",
    "        df = df.withColumn(col, df[col].cast(dtype))\n",
    "    return df\n",
    "\n",
    "ps_df_alltypes = spark_session.createDataFrame(pd_df_alltypes)\n",
    "\n",
    "ps_df_alltypes = pyspark_cast(\n",
    "    ps_df_alltypes, {\n",
    "        'index': 'integer',\n",
    "        'Unnamed: 0': 'integer',\n",
    "        'id': 'integer',\n",
    "        'bool_col': 'boolean',\n",
    "        'tinyint_col': 'byte',\n",
    "        'smallint_col': 'short',\n",
    "        'int_col': 'integer',\n",
    "        'bigint_col': 'long',\n",
    "        'float_col': 'float',\n",
    "        'double_col': 'double',\n",
    "        'date_string_col': 'string',\n",
    "        'string_col': 'string',\n",
    "        'timestamp_col': 'timestamp',\n",
    "        'year': 'integer',\n",
    "        'month': 'integer'\n",
    "    }\n",
    ")\n",
    "\n",
    "# use ``SparkSession`` to create a table\n",
    "ps_df_alltypes.createOrReplaceTempView('functional_alltypes')\n",
    "con_pyspark.list_tables()"
   ]
  },
  {
   "cell_type": "markdown",
   "metadata": {},
   "source": [
    "Check if all columns were created with the desired data type:"
   ]
  },
  {
   "cell_type": "code",
   "execution_count": 11,
   "metadata": {},
   "outputs": [
    {
     "data": {
      "image/png": "[encoded data removed]",
      "text/plain": [
       "PySparkTable[table]\n",
       "  name: functional_alltypes\n",
       "  schema:\n",
       "    index : int32\n",
       "    Unnamed: 0 : int32\n",
       "    id : int32\n",
       "    bool_col : boolean\n",
       "    tinyint_col : int8\n",
       "    smallint_col : int16\n",
       "    int_col : int32\n",
       "    bigint_col : int64\n",
       "    float_col : float32\n",
       "    double_col : float64\n",
       "    date_string_col : string\n",
       "    string_col : string\n",
       "    timestamp_col : timestamp\n",
       "    year : int32\n",
       "    month : int32"
      ]
     },
     "execution_count": 11,
     "metadata": {},
     "output_type": "execute_result"
    }
   ],
   "source": [
    "t = con_pyspark.table('functional_alltypes')\n",
    "t"
   ]
  },
  {
   "cell_type": "markdown",
   "metadata": {},
   "source": [
    "\n",
    "Different than a `SQL` backend, that returns a `SQL` statement, the returned \n",
    "`object` from `pyspark` `compile` method is a `PySpark` `DataFrame`:"
   ]
  },
  {
   "cell_type": "code",
   "execution_count": 12,
   "metadata": {},
   "outputs": [
    {
     "data": {
      "text/plain": [
       "pyspark.sql.dataframe.DataFrame"
      ]
     },
     "execution_count": 12,
     "metadata": {},
     "output_type": "execute_result"
    }
   ],
   "source": [
    "expr = t.head()\n",
    "expr_comp = expr.compile()\n",
    "type(expr_comp)"
   ]
  },
  {
   "cell_type": "code",
   "execution_count": 13,
   "metadata": {},
   "outputs": [
    {
     "data": {
      "text/plain": [
       "DataFrame[index: int, Unnamed: 0: int, id: int, bool_col: boolean, tinyint_col: tinyint, smallint_col: smallint, int_col: int, bigint_col: bigint, float_col: float, double_col: double, date_string_col: string, string_col: string, timestamp_col: timestamp, year: int, month: int]"
      ]
     },
     "execution_count": 13,
     "metadata": {},
     "output_type": "execute_result"
    }
   ],
   "source": [
    "expr_comp"
   ]
  },
  {
   "cell_type": "markdown",
   "metadata": {},
   "source": [
    "To convert the compiled expression to a `Pandas` `DataFrame`, you can use `toPandas` method.\n",
    "The result should be the same returned by the `execute` method."
   ]
  },
  {
   "cell_type": "code",
   "execution_count": 14,
   "metadata": {},
   "outputs": [],
   "source": [
    "assert all(expr.execute() == expr_comp.toPandas())"
   ]
  },
  {
   "cell_type": "code",
   "execution_count": 15,
   "metadata": {},
   "outputs": [
    {
     "data": {
      "text/html": [
       "<div>\n",
       "<style scoped>\n",
       "    .dataframe tbody tr th:only-of-type {\n",
       "        vertical-align: middle;\n",
       "    }\n",
       "\n",
       "    .dataframe tbody tr th {\n",
       "        vertical-align: top;\n",
       "    }\n",
       "\n",
       "    .dataframe thead th {\n",
       "        text-align: right;\n",
       "    }\n",
       "</style>\n",
       "<table border=\"1\" class=\"dataframe\">\n",
       "  <thead>\n",
       "    <tr style=\"text-align: right;\">\n",
       "      <th></th>\n",
       "      <th>index</th>\n",
       "      <th>Unnamed: 0</th>\n",
       "      <th>id</th>\n",
       "      <th>bool_col</th>\n",
       "      <th>tinyint_col</th>\n",
       "      <th>smallint_col</th>\n",
       "      <th>int_col</th>\n",
       "      <th>bigint_col</th>\n",
       "      <th>float_col</th>\n",
       "      <th>double_col</th>\n",
       "      <th>date_string_col</th>\n",
       "      <th>string_col</th>\n",
       "      <th>timestamp_col</th>\n",
       "      <th>year</th>\n",
       "      <th>month</th>\n",
       "    </tr>\n",
       "  </thead>\n",
       "  <tbody>\n",
       "    <tr>\n",
       "      <th>0</th>\n",
       "      <td>0</td>\n",
       "      <td>0</td>\n",
       "      <td>6690</td>\n",
       "      <td>True</td>\n",
       "      <td>0</td>\n",
       "      <td>0</td>\n",
       "      <td>0</td>\n",
       "      <td>0</td>\n",
       "      <td>0.0</td>\n",
       "      <td>0.0</td>\n",
       "      <td>11/01/10</td>\n",
       "      <td>0</td>\n",
       "      <td>2010-11-01 00:00:00.000</td>\n",
       "      <td>2010</td>\n",
       "      <td>11</td>\n",
       "    </tr>\n",
       "    <tr>\n",
       "      <th>1</th>\n",
       "      <td>1</td>\n",
       "      <td>1</td>\n",
       "      <td>6691</td>\n",
       "      <td>False</td>\n",
       "      <td>1</td>\n",
       "      <td>1</td>\n",
       "      <td>1</td>\n",
       "      <td>10</td>\n",
       "      <td>1.1</td>\n",
       "      <td>10.1</td>\n",
       "      <td>11/01/10</td>\n",
       "      <td>1</td>\n",
       "      <td>2010-11-01 00:01:00.000</td>\n",
       "      <td>2010</td>\n",
       "      <td>11</td>\n",
       "    </tr>\n",
       "    <tr>\n",
       "      <th>2</th>\n",
       "      <td>2</td>\n",
       "      <td>2</td>\n",
       "      <td>6692</td>\n",
       "      <td>True</td>\n",
       "      <td>2</td>\n",
       "      <td>2</td>\n",
       "      <td>2</td>\n",
       "      <td>20</td>\n",
       "      <td>2.2</td>\n",
       "      <td>20.2</td>\n",
       "      <td>11/01/10</td>\n",
       "      <td>2</td>\n",
       "      <td>2010-11-01 00:02:00.100</td>\n",
       "      <td>2010</td>\n",
       "      <td>11</td>\n",
       "    </tr>\n",
       "    <tr>\n",
       "      <th>3</th>\n",
       "      <td>3</td>\n",
       "      <td>3</td>\n",
       "      <td>6693</td>\n",
       "      <td>False</td>\n",
       "      <td>3</td>\n",
       "      <td>3</td>\n",
       "      <td>3</td>\n",
       "      <td>30</td>\n",
       "      <td>3.3</td>\n",
       "      <td>30.3</td>\n",
       "      <td>11/01/10</td>\n",
       "      <td>3</td>\n",
       "      <td>2010-11-01 00:03:00.300</td>\n",
       "      <td>2010</td>\n",
       "      <td>11</td>\n",
       "    </tr>\n",
       "    <tr>\n",
       "      <th>4</th>\n",
       "      <td>4</td>\n",
       "      <td>4</td>\n",
       "      <td>6694</td>\n",
       "      <td>True</td>\n",
       "      <td>4</td>\n",
       "      <td>4</td>\n",
       "      <td>4</td>\n",
       "      <td>40</td>\n",
       "      <td>4.4</td>\n",
       "      <td>40.4</td>\n",
       "      <td>11/01/10</td>\n",
       "      <td>4</td>\n",
       "      <td>2010-11-01 00:04:00.600</td>\n",
       "      <td>2010</td>\n",
       "      <td>11</td>\n",
       "    </tr>\n",
       "  </tbody>\n",
       "</table>\n",
       "</div>"
      ],
      "text/plain": [
       "   index  Unnamed: 0    id  bool_col  tinyint_col  smallint_col  int_col  \\\n",
       "0      0           0  6690      True            0             0        0   \n",
       "1      1           1  6691     False            1             1        1   \n",
       "2      2           2  6692      True            2             2        2   \n",
       "3      3           3  6693     False            3             3        3   \n",
       "4      4           4  6694      True            4             4        4   \n",
       "\n",
       "   bigint_col  float_col  double_col date_string_col string_col  \\\n",
       "0           0        0.0         0.0        11/01/10          0   \n",
       "1          10        1.1        10.1        11/01/10          1   \n",
       "2          20        2.2        20.2        11/01/10          2   \n",
       "3          30        3.3        30.3        11/01/10          3   \n",
       "4          40        4.4        40.4        11/01/10          4   \n",
       "\n",
       "            timestamp_col  year  month  \n",
       "0 2010-11-01 00:00:00.000  2010     11  \n",
       "1 2010-11-01 00:01:00.000  2010     11  \n",
       "2 2010-11-01 00:02:00.100  2010     11  \n",
       "3 2010-11-01 00:03:00.300  2010     11  \n",
       "4 2010-11-01 00:04:00.600  2010     11  "
      ]
     },
     "execution_count": 15,
     "metadata": {},
     "output_type": "execute_result"
    }
   ],
   "source": [
    "expr.execute()"
   ]
  },
  {
   "cell_type": "markdown",
   "metadata": {},
   "source": [
    "To finish this section, we can play a little bit with some aggregation operations."
   ]
  },
  {
   "cell_type": "code",
   "execution_count": 16,
   "metadata": {},
   "outputs": [
    {
     "data": {
      "text/html": [
       "<div>\n",
       "<style scoped>\n",
       "    .dataframe tbody tr th:only-of-type {\n",
       "        vertical-align: middle;\n",
       "    }\n",
       "\n",
       "    .dataframe tbody tr th {\n",
       "        vertical-align: top;\n",
       "    }\n",
       "\n",
       "    .dataframe thead th {\n",
       "        text-align: right;\n",
       "    }\n",
       "</style>\n",
       "<table border=\"1\" class=\"dataframe\">\n",
       "  <thead>\n",
       "    <tr style=\"text-align: right;\">\n",
       "      <th></th>\n",
       "      <th>string_col</th>\n",
       "      <th>int_col_count</th>\n",
       "      <th>int_col_mean</th>\n",
       "      <th>int_col_sum</th>\n",
       "    </tr>\n",
       "  </thead>\n",
       "  <tbody>\n",
       "    <tr>\n",
       "      <th>0</th>\n",
       "      <td>7</td>\n",
       "      <td>730</td>\n",
       "      <td>7.0</td>\n",
       "      <td>5110</td>\n",
       "    </tr>\n",
       "    <tr>\n",
       "      <th>1</th>\n",
       "      <td>3</td>\n",
       "      <td>730</td>\n",
       "      <td>3.0</td>\n",
       "      <td>2190</td>\n",
       "    </tr>\n",
       "    <tr>\n",
       "      <th>2</th>\n",
       "      <td>8</td>\n",
       "      <td>730</td>\n",
       "      <td>8.0</td>\n",
       "      <td>5840</td>\n",
       "    </tr>\n",
       "    <tr>\n",
       "      <th>3</th>\n",
       "      <td>0</td>\n",
       "      <td>730</td>\n",
       "      <td>0.0</td>\n",
       "      <td>0</td>\n",
       "    </tr>\n",
       "    <tr>\n",
       "      <th>4</th>\n",
       "      <td>5</td>\n",
       "      <td>730</td>\n",
       "      <td>5.0</td>\n",
       "      <td>3650</td>\n",
       "    </tr>\n",
       "    <tr>\n",
       "      <th>5</th>\n",
       "      <td>6</td>\n",
       "      <td>730</td>\n",
       "      <td>6.0</td>\n",
       "      <td>4380</td>\n",
       "    </tr>\n",
       "    <tr>\n",
       "      <th>6</th>\n",
       "      <td>9</td>\n",
       "      <td>730</td>\n",
       "      <td>9.0</td>\n",
       "      <td>6570</td>\n",
       "    </tr>\n",
       "    <tr>\n",
       "      <th>7</th>\n",
       "      <td>1</td>\n",
       "      <td>730</td>\n",
       "      <td>1.0</td>\n",
       "      <td>730</td>\n",
       "    </tr>\n",
       "    <tr>\n",
       "      <th>8</th>\n",
       "      <td>4</td>\n",
       "      <td>730</td>\n",
       "      <td>4.0</td>\n",
       "      <td>2920</td>\n",
       "    </tr>\n",
       "    <tr>\n",
       "      <th>9</th>\n",
       "      <td>2</td>\n",
       "      <td>730</td>\n",
       "      <td>2.0</td>\n",
       "      <td>1460</td>\n",
       "    </tr>\n",
       "  </tbody>\n",
       "</table>\n",
       "</div>"
      ],
      "text/plain": [
       "  string_col  int_col_count  int_col_mean  int_col_sum\n",
       "0          7            730           7.0         5110\n",
       "1          3            730           3.0         2190\n",
       "2          8            730           8.0         5840\n",
       "3          0            730           0.0            0\n",
       "4          5            730           5.0         3650\n",
       "5          6            730           6.0         4380\n",
       "6          9            730           9.0         6570\n",
       "7          1            730           1.0          730\n",
       "8          4            730           4.0         2920\n",
       "9          2            730           2.0         1460"
      ]
     },
     "execution_count": 16,
     "metadata": {},
     "output_type": "execute_result"
    }
   ],
   "source": [
    "expr = t\n",
    "expr = expr.groupby('string_col').aggregate(\n",
    "    int_col_mean=t.int_col.mean(),\n",
    "    int_col_sum=t.int_col.sum(),\n",
    "    int_col_count=t.int_col.count(),\n",
    ")\n",
    "expr.execute()"
   ]
  },
  {
   "cell_type": "markdown",
   "metadata": {},
   "source": [
    "Check out the `PySpark` `Ibis` backend \n",
    "[API documentation](https://docs.ibis-project.org/api.html#pyspark-client-experimental) \n",
    "and the [tutorials](https://docs.ibis-project.org/tutorial.html)\n",
    "for more details."
   ]
  },
  {
   "cell_type": "markdown",
   "metadata": {},
   "source": [
    "### Geospatial support notes\n",
    "\n",
    "Currently, `ibis.omniscidb` and `ibis.postgres` are the only Ibis backends that support `geospatial` features.\n",
    "\n",
    "In this section we will check some geospatial features using `PostgreSQL` backend."
   ]
  },
  {
   "cell_type": "code",
   "execution_count": 17,
   "metadata": {},
   "outputs": [
    {
     "data": {
      "text/plain": [
       "['array_types',\n",
       " 'awards_players',\n",
       " 'batting',\n",
       " 'diamonds',\n",
       " 'films',\n",
       " 'functional_alltypes',\n",
       " 'geo',\n",
       " 'geography_columns',\n",
       " 'geometry_columns',\n",
       " 'intervals',\n",
       " 'not_supported_intervals',\n",
       " 'raster_columns',\n",
       " 'raster_overviews',\n",
       " 'spatial_ref_sys',\n",
       " 'tzone']"
      ]
     },
     "execution_count": 17,
     "metadata": {},
     "output_type": "execute_result"
    }
   ],
   "source": [
    "con_psql = ibis.postgres.connect(\n",
    "    host='localhost',\n",
    "    port=5432,\n",
    "    user='postgres',\n",
    "    password='postgres',\n",
    "    database='ibis_testing'\n",
    ")\n",
    "con_psql.list_tables()"
   ]
  },
  {
   "cell_type": "markdown",
   "metadata": {},
   "source": [
    "Two important features are that it support `shape` objects (input) and `geopandas` dataframe (output)! \n",
    "\n",
    "So, let's import `shapely` to create a simple `shape` point and polygon."
   ]
  },
  {
   "cell_type": "code",
   "execution_count": 18,
   "metadata": {},
   "outputs": [
    {
     "data": {
      "image/svg+xml": [
       "<svg xmlns=\"http://www.w3.org/2000/svg\" xmlns:xlink=\"http://www.w3.org/1999/xlink\" width=\"100.0\" height=\"100.0\" viewBox=\"19.0 9.0 2.0 2.0\" preserveAspectRatio=\"xMinYMin meet\"><g transform=\"matrix(1,0,0,-1,0,20.0)\"><circle cx=\"20.0\" cy=\"10.0\" r=\"0.06\" stroke=\"#555555\" stroke-width=\"0.02\" fill=\"#66cc99\" opacity=\"0.6\" /></g></svg>"
      ],
      "text/plain": [
       "<shapely.geometry.point.Point at 0x7f7f1cfecd90>"
      ]
     },
     "execution_count": 18,
     "metadata": {},
     "output_type": "execute_result"
    }
   ],
   "source": [
    "import shapely\n",
    "\n",
    "shp_point = shapely.geometry.Point((20, 10))\n",
    "shp_point"
   ]
  },
  {
   "cell_type": "code",
   "execution_count": 19,
   "metadata": {},
   "outputs": [
    {
     "data": {
      "image/svg+xml": [
       "<svg xmlns=\"http://www.w3.org/2000/svg\" xmlns:xlink=\"http://www.w3.org/1999/xlink\" width=\"100.0\" height=\"100.0\" viewBox=\"19.2 9.2 21.599999999999998 21.6\" preserveAspectRatio=\"xMinYMin meet\"><g transform=\"matrix(1,0,0,-1,0,40.0)\"><path fill-rule=\"evenodd\" fill=\"#66cc99\" stroke=\"#555555\" stroke-width=\"0.43200000000000005\" opacity=\"0.6\" d=\"M 20.0,10.0 L 40.0,30.0 L 40.0,20.0 L 20.0,10.0 z\" /></g></svg>"
      ],
      "text/plain": [
       "<shapely.geometry.polygon.Polygon at 0x7f7f1d116850>"
      ]
     },
     "execution_count": 19,
     "metadata": {},
     "output_type": "execute_result"
    }
   ],
   "source": [
    "shp_polygon_1 = shapely.geometry.Polygon([(20, 10), (40, 30), (40, 20), (20, 10)])\n",
    "shp_polygon_1"
   ]
  },
  {
   "cell_type": "markdown",
   "metadata": {},
   "source": [
    "Now, let's create a Ibis table expression to manipulate `geo` table:"
   ]
  },
  {
   "cell_type": "code",
   "execution_count": 20,
   "metadata": {},
   "outputs": [
    {
     "data": {
      "text/html": [
       "<div>\n",
       "<style scoped>\n",
       "    .dataframe tbody tr th:only-of-type {\n",
       "        vertical-align: middle;\n",
       "    }\n",
       "\n",
       "    .dataframe tbody tr th {\n",
       "        vertical-align: top;\n",
       "    }\n",
       "\n",
       "    .dataframe thead th {\n",
       "        text-align: right;\n",
       "    }\n",
       "</style>\n",
       "<table border=\"1\" class=\"dataframe\">\n",
       "  <thead>\n",
       "    <tr style=\"text-align: right;\">\n",
       "      <th></th>\n",
       "      <th>id</th>\n",
       "      <th>geo_point</th>\n",
       "      <th>geo_linestring</th>\n",
       "      <th>geo_polygon</th>\n",
       "      <th>geo_multipolygon</th>\n",
       "    </tr>\n",
       "  </thead>\n",
       "  <tbody>\n",
       "    <tr>\n",
       "      <th>0</th>\n",
       "      <td>1</td>\n",
       "      <td>POINT (0.00000 0.00000)</td>\n",
       "      <td>LINESTRING (0 0, 1 1)</td>\n",
       "      <td>POLYGON ((30 10, 40 40, 20 40, 10 20, 30 10))</td>\n",
       "      <td>(POLYGON ((30 20, 45 40, 10 40, 30 20)), POLYG...</td>\n",
       "    </tr>\n",
       "    <tr>\n",
       "      <th>1</th>\n",
       "      <td>2</td>\n",
       "      <td>POINT (1.00000 1.00000)</td>\n",
       "      <td>LINESTRING (1 1, 2 2)</td>\n",
       "      <td>POLYGON ((35 10, 45 45, 15 40, 10 20, 35 10), ...</td>\n",
       "      <td>(POLYGON ((40 40, 20 45, 45 30, 40 40)), POLYG...</td>\n",
       "    </tr>\n",
       "    <tr>\n",
       "      <th>2</th>\n",
       "      <td>3</td>\n",
       "      <td>POINT (2.00000 2.00000)</td>\n",
       "      <td>LINESTRING (2 2, 3 3)</td>\n",
       "      <td>POLYGON ((2 2, 3 3, 4 4, 5 5, 5 2, 2 2))</td>\n",
       "      <td>(POLYGON ((2 2, 3 3, 4 4, 5 5, 5 2, 2 2)))</td>\n",
       "    </tr>\n",
       "    <tr>\n",
       "      <th>3</th>\n",
       "      <td>4</td>\n",
       "      <td>POINT (3.00000 3.00000)</td>\n",
       "      <td>LINESTRING (3 3, 4 4)</td>\n",
       "      <td>POLYGON ((3 3, 4 4, 5 5, 6 6, 6 3, 3 3))</td>\n",
       "      <td>(POLYGON ((3 3, 4 4, 5 5, 6 6, 6 3, 3 3)))</td>\n",
       "    </tr>\n",
       "    <tr>\n",
       "      <th>4</th>\n",
       "      <td>5</td>\n",
       "      <td>POINT (4.00000 4.00000)</td>\n",
       "      <td>LINESTRING (4 4, 5 5)</td>\n",
       "      <td>POLYGON ((4 4, 5 5, 6 6, 7 7, 7 4, 4 4))</td>\n",
       "      <td>(POLYGON ((4 4, 5 5, 6 6, 7 7, 7 4, 4 4)))</td>\n",
       "    </tr>\n",
       "  </tbody>\n",
       "</table>\n",
       "</div>"
      ],
      "text/plain": [
       "   id                geo_point         geo_linestring  \\\n",
       "0   1  POINT (0.00000 0.00000)  LINESTRING (0 0, 1 1)   \n",
       "1   2  POINT (1.00000 1.00000)  LINESTRING (1 1, 2 2)   \n",
       "2   3  POINT (2.00000 2.00000)  LINESTRING (2 2, 3 3)   \n",
       "3   4  POINT (3.00000 3.00000)  LINESTRING (3 3, 4 4)   \n",
       "4   5  POINT (4.00000 4.00000)  LINESTRING (4 4, 5 5)   \n",
       "\n",
       "                                         geo_polygon  \\\n",
       "0      POLYGON ((30 10, 40 40, 20 40, 10 20, 30 10))   \n",
       "1  POLYGON ((35 10, 45 45, 15 40, 10 20, 35 10), ...   \n",
       "2           POLYGON ((2 2, 3 3, 4 4, 5 5, 5 2, 2 2))   \n",
       "3           POLYGON ((3 3, 4 4, 5 5, 6 6, 6 3, 3 3))   \n",
       "4           POLYGON ((4 4, 5 5, 6 6, 7 7, 7 4, 4 4))   \n",
       "\n",
       "                                    geo_multipolygon  \n",
       "0  (POLYGON ((30 20, 45 40, 10 40, 30 20)), POLYG...  \n",
       "1  (POLYGON ((40 40, 20 45, 45 30, 40 40)), POLYG...  \n",
       "2         (POLYGON ((2 2, 3 3, 4 4, 5 5, 5 2, 2 2)))  \n",
       "3         (POLYGON ((3 3, 4 4, 5 5, 6 6, 6 3, 3 3)))  \n",
       "4         (POLYGON ((4 4, 5 5, 6 6, 7 7, 7 4, 4 4)))  "
      ]
     },
     "execution_count": 20,
     "metadata": {},
     "output_type": "execute_result"
    }
   ],
   "source": [
    "t_geo = con_psql.table('geo')\n",
    "df_geo = t_geo.execute()\n",
    "df_geo"
   ]
  },
  {
   "cell_type": "markdown",
   "metadata": {},
   "source": [
    "And the type of `df_geo` is ...  a `geopandas` dataframe!"
   ]
  },
  {
   "cell_type": "code",
   "execution_count": 21,
   "metadata": {},
   "outputs": [
    {
     "data": {
      "text/plain": [
       "geopandas.geodataframe.GeoDataFrame"
      ]
     },
     "execution_count": 21,
     "metadata": {},
     "output_type": "execute_result"
    }
   ],
   "source": [
    "type(df_geo)"
   ]
  },
  {
   "cell_type": "markdown",
   "metadata": {},
   "source": [
    "So you can take the advantage of `GeoPandas` features too!"
   ]
  },
  {
   "cell_type": "code",
   "execution_count": 22,
   "metadata": {},
   "outputs": [
    {
     "data": {
      "image/png": "[encoded data removed]",
      "text/plain": [
       "<Figure size 432x288 with 1 Axes>"
      ]
     },
     "metadata": {
      "needs_background": "light"
     },
     "output_type": "display_data"
    }
   ],
   "source": [
    "df_geo.set_geometry('geo_multipolygon').head(1).plot();"
   ]
  },
  {
   "cell_type": "markdown",
   "metadata": {},
   "source": [
    "Now, let's check if there are any `geo_multipolygon` that contains the `shape` point we just created. "
   ]
  },
  {
   "cell_type": "code",
   "execution_count": 23,
   "metadata": {},
   "outputs": [
    {
     "data": {
      "text/html": [
       "<div>\n",
       "<style scoped>\n",
       "    .dataframe tbody tr th:only-of-type {\n",
       "        vertical-align: middle;\n",
       "    }\n",
       "\n",
       "    .dataframe tbody tr th {\n",
       "        vertical-align: top;\n",
       "    }\n",
       "\n",
       "    .dataframe thead th {\n",
       "        text-align: right;\n",
       "    }\n",
       "</style>\n",
       "<table border=\"1\" class=\"dataframe\">\n",
       "  <thead>\n",
       "    <tr style=\"text-align: right;\">\n",
       "      <th></th>\n",
       "      <th>geo_multipolygon</th>\n",
       "      <th>contains_point_1</th>\n",
       "    </tr>\n",
       "  </thead>\n",
       "  <tbody>\n",
       "    <tr>\n",
       "      <th>0</th>\n",
       "      <td>MULTIPOLYGON (((30.00000 20.00000, 45.00000 40...</td>\n",
       "      <td>True</td>\n",
       "    </tr>\n",
       "    <tr>\n",
       "      <th>1</th>\n",
       "      <td>MULTIPOLYGON (((40.00000 40.00000, 20.00000 45...</td>\n",
       "      <td>True</td>\n",
       "    </tr>\n",
       "    <tr>\n",
       "      <th>2</th>\n",
       "      <td>MULTIPOLYGON (((2.00000 2.00000, 3.00000 3.000...</td>\n",
       "      <td>False</td>\n",
       "    </tr>\n",
       "    <tr>\n",
       "      <th>3</th>\n",
       "      <td>MULTIPOLYGON (((3.00000 3.00000, 4.00000 4.000...</td>\n",
       "      <td>False</td>\n",
       "    </tr>\n",
       "    <tr>\n",
       "      <th>4</th>\n",
       "      <td>MULTIPOLYGON (((4.00000 4.00000, 5.00000 5.000...</td>\n",
       "      <td>False</td>\n",
       "    </tr>\n",
       "  </tbody>\n",
       "</table>\n",
       "</div>"
      ],
      "text/plain": [
       "                                    geo_multipolygon  contains_point_1\n",
       "0  MULTIPOLYGON (((30.00000 20.00000, 45.00000 40...              True\n",
       "1  MULTIPOLYGON (((40.00000 40.00000, 20.00000 45...              True\n",
       "2  MULTIPOLYGON (((2.00000 2.00000, 3.00000 3.000...             False\n",
       "3  MULTIPOLYGON (((3.00000 3.00000, 4.00000 4.000...             False\n",
       "4  MULTIPOLYGON (((4.00000 4.00000, 5.00000 5.000...             False"
      ]
     },
     "execution_count": 23,
     "metadata": {},
     "output_type": "execute_result"
    }
   ],
   "source": [
    "t_geo[\n",
    "    t_geo.geo_multipolygon, \n",
    "    t_geo['geo_multipolygon'].contains(shp_point).name('contains_point_1')\n",
    "].execute()"
   ]
  },
  {
   "cell_type": "markdown",
   "metadata": {},
   "source": [
    "So, as expected, just the first two `multipolygons` contain a `point` with coordinates `(20, 10)`.\n",
    "\n",
    "For more examples about **Geospatial Analysis** with `Ibis`, \n",
    "check this nice [tutorial](https://docs.ibis-project.org/notebooks/tutorial/11-Geospatial-Analysis.html)\n",
    "wrote by [Ian Rose](https://github.com/ian-r-rose)!"
   ]
  },
  {
   "cell_type": "markdown",
   "metadata": {},
   "source": [
    "### Python versions support notes\n",
    "\n",
    "Ibis-framework 1.3 added a initially support for `Python 3.8` and \n",
    "dropped support for `Python 3.5`. \n",
    "\n",
    "> Note: currently, [OmniSciDB](https://github.com/ibis-project/ibis/issues/2090) and \n",
    "[PySpark](https://github.com/ibis-project/ibis/issues/2091) ``Ibis`` backends\n",
    "are not supported on `Python 3.8`."
   ]
  },
  {
   "cell_type": "markdown",
   "metadata": {},
   "source": [
    "### Final words\n",
    "\n",
    "**Do you want to play more with Ibis framework?**\n",
    "\n",
    "You can install it from `PyPI`\n",
    "\n",
    "```\n",
    "python -m pip install --upgrade ibis-framework==1.3.0\n",
    "```\n",
    "\n",
    "Or from `conda-forge`\n",
    "\n",
    "```\n",
    "conda install ibis-framework=1.3.0 -c conda-forge\n",
    "```\n",
    "\n",
    "Check out some interesting tutorials to help you to start on Ibis: https://docs.ibis-project.org/tutorial.html\n",
    "\n",
    "If you are coming from the `SQL` world, maybe [Ibis for SQL Programmers](https://docs.ibis-project.org/sql.html) \n",
    "documentation section would be very helpful!\n",
    "\n",
    "Have fun!\n"
   ]
  }
 ],
 "metadata": {
  "kernelspec": {
   "display_name": "Python 3",
   "language": "python",
   "name": "python3"
  },
  "language_info": {
   "codemirror_mode": {
    "name": "ipython",
    "version": 3
   },
   "file_extension": ".py",
   "mimetype": "text/x-python",
   "name": "python",
   "nbconvert_exporter": "python",
   "pygments_lexer": "ipython3",
   "version": "3.7.6"
  },
  "nikola": {
   "date": "2020-04-10 03:30:00 UTC",
   "author": "Ivan Ogasawara",
   "tags": "Ibis",
   "slug": "ibis-1.3-notes",
   "title": "Ibis 1.3 release notes"
  }
 },
 "nbformat": 4,
 "nbformat_minor": 4
}
