{
 "cells": [
  {
   "cell_type": "markdown",
   "metadata": {},
   "source": [
    "`uarray` is a generic override framework for objects and methods in Python. Since [my last `uarray` blogpost](https://labs.quansight.org/blog/2019/04/uarray-intro/), there have been plenty of developments, changes to the API and improvements to the overhead of the protocol. Let’s begin with a walk-through of the current feature set and API, and then move on to current developments and how it compares to [`__array_function__`](www.numpy.org/neps/nep-0018-array-function-protocol.html). For further details on the API and latest developments, please see [the API page for `uarray`](https://uarray.readthedocs.io/en/latest/generated/uarray.html). The examples there are doctested, so they will always be current."
   ]
  },
  {
   "cell_type": "markdown",
   "metadata": {},
   "source": [
    "## Motivation\n",
    "### Other array objects\n",
    "NumPy is a simple, rectangular, dense, and in-memory data store. This is great for some applications but isn't complete on its own. It doesn't encompass every single use-case. The following are examples of array objects available today that have different features and cater to a different kind of audience.\n",
    "\n",
    "* Dask is one of the most popular ones. It allows distributed and chunked computation.\n",
    "* CuPy is another popular one, and allows GPU computation.\n",
    "* PyData/Sparse is slowly gaining popularity, and is a sparse, in-memory data store.\n",
    "* XArray includes named dimensions.\n",
    "* Xnd is another effort to re-write and modernise the NumPy API, and includes support for GPU arrays and ragged arrays.\n",
    "* Another effort (although with no Python wrapper, only data marshalling) is xtensor.\n",
    "\n",
    "Some of these objects can be composed. Namely, Dask both expects and exports the NumPy API, whereas XArray expects the NumPy API. This makes interesting combinations possible, such as distributed sparse or GPU arrays, or even labelled distributed sparse or CPU/GPU arrays.\n",
    "\n",
    "Also, there are many other libraries (a popular one being scikit-learn) that need a back-end mechanism in order to be able to support different kinds of array objects. Finally, there is a desire to see SciPy itself gain support for other array objects.\n",
    "\n",
    "### `__array_function__` and its limitations\n",
    "One of my motivations for working on `uarray` were the limitations of the `__array_function__` protocol, defined in [this proposal](https://www.numpy.org/neps/nep-0018-array-function-protocol.html). The limitations are threefold:\n",
    "\n",
    "* It can only dispatch on array objects.\n",
    "* Consequently, it can only dispatch on functions that *accept* array objects.\n",
    "* It has no mechanism for conversion and coercion.\n",
    "* Since it conflates arrays and backends, only a single backend type per array object is possible.\n",
    "\n",
    "These limitations have been [partially](https://github.com/numpy/numpy/issues/11129) [discussed](http://numpy-discussion.10968.n7.nabble.com/Allowing-broadcasting-of-code-dimensions-in-generalized-ufuncs-td45589.html) [before](http://numpy-discussion.10968.n7.nabble.com/Proposal-to-accept-NEP-18-array-function-protocol-td46001.html).\n",
    "\n",
    "## `uarray` — The solution?\n",
    "With that out of the way, let's explore `uarray`, a library that hopes to resolve these issues, and even though the original motivation was NumPy and array computing, the library itself is meant to be a generic multiple-dispatch mechanism."
   ]
  },
  {
   "cell_type": "code",
   "execution_count": 1,
   "metadata": {},
   "outputs": [],
   "source": [
    "# Enable __array_function__ for NumPy < 1.17.0\n",
    "!export NUMPY_EXPERIMENTAL_ARRAY_FUNCTION=1"
   ]
  },
  {
   "cell_type": "code",
   "execution_count": 2,
   "metadata": {},
   "outputs": [],
   "source": [
    "import uarray as ua\n",
    "import numpy as np"
   ]
  },
  {
   "cell_type": "markdown",
   "metadata": {},
   "source": [
    "In `uarray`, the fundamental building block is a multimethod. Multimethods have a number of nice properties, such as automatic dispatch based on backends. It is important to note here that multimethods will be written by API authors, rather than implementors. Here's how we define a multimethod in `uarray`:\n",
    "<!-- TEASER_END -->"
   ]
  },
  {
   "cell_type": "code",
   "execution_count": 3,
   "metadata": {},
   "outputs": [],
   "source": [
    "my_multimethod = ua.generate_multimethod(\n",
    "    # This is the argument extractor, it also defines the signature.\n",
    "    lambda a, b=None: (),\n",
    "    # This is the reverse dispatcher, it is important for conversion/coercion.\n",
    "    # It is optional and can be set to None.\n",
    "    lambda a, kw, d: (a, kw),\n",
    "    # This is the domain, it separates the multimethods into clean parts.\n",
    "    \"ql_blogpost\",\n",
    "    # This is the default implementation. It is also optional, which means\n",
    "    # \"error if no backend is found/set\".\n",
    "    default=lambda a, b=None: (a, b)\n",
    ")"
   ]
  },
  {
   "cell_type": "markdown",
   "metadata": {},
   "source": [
    "We will explore the function of each of the parts of this multimethod later. Let's try calling this multimethod."
   ]
  },
  {
   "cell_type": "code",
   "execution_count": 4,
   "metadata": {},
   "outputs": [
    {
     "data": {
      "text/plain": [
       "(1, 2)"
      ]
     },
     "execution_count": 4,
     "metadata": {},
     "output_type": "execute_result"
    }
   ],
   "source": [
    "my_multimethod(1, 2)"
   ]
  },
  {
   "cell_type": "markdown",
   "metadata": {},
   "source": [
    "As we can see, it remains faithful to its purpose. It has a default implementation that it can execute nicely. However, the real power comes when overriding this multimethod. To do this, we must consider the concept of a backend, which is separate. This is different from the view of `__array_function__`, in which array objects themselves define the backend. Here, we have applied the principle of [separation of concerns](https://en.wikipedia.org/wiki/Separation_of_concerns) to separate the multimethod, the objects it operates on, as well as the backend. Note as well that backend authors provide the implementation of a given API.\n",
    "\n",
    "Let’s see how one would define a backend in `uarray`."
   ]
  },
  {
   "cell_type": "code",
   "execution_count": 5,
   "metadata": {},
   "outputs": [],
   "source": [
    "class Backend:\n",
    "    # A backend can only override methods from its own domain\n",
    "    __ua_domain__ = \"ql_blogpost\"\n",
    "    \n",
    "    # This is the main protocol a backend must have in order to work.\n",
    "    @staticmethod\n",
    "    def __ua_function__(\n",
    "        func,  # It gets the multimethod being called,\n",
    "        args, kwargs  # And the arguments the method is called with.\n",
    "    ):\n",
    "        # Here we have the implementation\n",
    "        return func.__name__, args, kwargs\n"
   ]
  },
  {
   "cell_type": "markdown",
   "metadata": {},
   "source": [
    "Now, let's go about overriding the function. Note here that `set_backend` will typically be used by consumers of the API."
   ]
  },
  {
   "cell_type": "code",
   "execution_count": 6,
   "metadata": {},
   "outputs": [
    {
     "name": "stdout",
     "output_type": "stream",
     "text": [
      "('<lambda>', (1, 2), {})\n"
     ]
    }
   ],
   "source": [
    "with ua.set_backend(Backend):\n",
    "    print(my_multimethod(1, 2))"
   ]
  },
  {
   "cell_type": "markdown",
   "metadata": {},
   "source": [
    "As you can see, the function's return value magically changed. Note that this propagates all the way down the call stack. With that, let's get into some of the more magical features of `uarray`, starting with the function of the argument extractor, the argument replacer, and the `__ua_convert__` protocol."
   ]
  },
  {
   "cell_type": "markdown",
   "metadata": {},
   "source": [
    "## The argument extractor and argument-based dispatch\n",
    "\n",
    "The argument extractor (equivalent to a dispatcher in `__array_function__`) is more than just a dummy that returns an empty tuple. It can also return the arguments needed for dispatch. Let’s go ahead and see this in action."
   ]
  },
  {
   "cell_type": "code",
   "execution_count": 7,
   "metadata": {},
   "outputs": [],
   "source": [
    "import numbers\n",
    "my_multimethod_with_dispatch = ua.generate_multimethod(\n",
    "    # a is dispatchable, and it's supposed to be some kind of number\n",
    "    lambda a, b=None: (ua.Dispatchable(a, numbers.Number),),\n",
    "    lambda a, kw, d: (a, kw),\n",
    "    \"ql_blogpost\"\n",
    ")"
   ]
  },
  {
   "cell_type": "markdown",
   "metadata": {},
   "source": [
    "Just to illustrate what happens when a multimethod doesn't have a default implementation, let’s call this multimethod."
   ]
  },
  {
   "cell_type": "code",
   "execution_count": 8,
   "metadata": {},
   "outputs": [
    {
     "ename": "BackendNotImplementedError",
     "evalue": "No selected backends had an implementation for this function.",
     "output_type": "error",
     "traceback": [
      "\u001b[0;31m---------------------------------------------------------------------------\u001b[0m",
      "\u001b[0;31mBackendNotImplementedError\u001b[0m                Traceback (most recent call last)",
      "\u001b[0;32m<ipython-input-8-14d7909bfa3d>\u001b[0m in \u001b[0;36m<module>\u001b[0;34m\u001b[0m\n\u001b[0;32m----> 1\u001b[0;31m \u001b[0mmy_multimethod_with_dispatch\u001b[0m\u001b[0;34m(\u001b[0m\u001b[0;36m1\u001b[0m\u001b[0;34m,\u001b[0m \u001b[0;36m2\u001b[0m\u001b[0;34m)\u001b[0m\u001b[0;34m\u001b[0m\u001b[0;34m\u001b[0m\u001b[0m\n\u001b[0m",
      "\u001b[0;31mBackendNotImplementedError\u001b[0m: No selected backends had an implementation for this function."
     ]
    }
   ],
   "source": [
    "my_multimethod_with_dispatch(1, 2)"
   ]
  },
  {
   "cell_type": "markdown",
   "metadata": {},
   "source": [
    "It raises an error, as is expected, with a message explaining the situation. Now, let's explore dispatch."
   ]
  },
  {
   "cell_type": "code",
   "execution_count": 9,
   "metadata": {},
   "outputs": [],
   "source": [
    "class DispatchBackendInt:\n",
    "    # A backend can only override methods from its own domain\n",
    "    __ua_domain__ = \"ql_blogpost\"\n",
    "    \n",
    "    @staticmethod\n",
    "    def __ua_function__(func, args, kwargs):\n",
    "        return \"int\", func.__name__, args, kwargs\n",
    "    \n",
    "    @staticmethod\n",
    "    def __ua_convert__(\n",
    "        dispatchables,  # The list of dispatchables\n",
    "        coerce # Whether or not to forcibly coerce them to the required form, if possible\n",
    "    ):\n",
    "        converted = []\n",
    "        for d in dispatchables:\n",
    "            # Check if it's a number, we only support ints\n",
    "            if d.type is numbers.Number and isinstance(d.value, int):\n",
    "                converted.append(d.value)\n",
    "            else:\n",
    "                return NotImplemented\n",
    "        \n",
    "        return converted\n",
    "\n",
    "class DispatchBackendFloat:\n",
    "    # A backend can only override methods from its own domain\n",
    "    __ua_domain__ = \"ql_blogpost\"\n",
    "    \n",
    "    @staticmethod\n",
    "    def __ua_function__(func, args, kwargs):\n",
    "        return \"float\", func.__name__, args, kwargs\n",
    "    \n",
    "    @staticmethod\n",
    "    def __ua_convert__(dispatchables, coerce):\n",
    "        converted = []\n",
    "        for d in dispatchables:\n",
    "            # This one only supports floats\n",
    "            if d.type is numbers.Number and isinstance(d.value, float):\n",
    "                converted.append(d.value)\n",
    "            else:\n",
    "                return NotImplemented\n",
    "        \n",
    "        return converted"
   ]
  },
  {
   "cell_type": "code",
   "execution_count": 10,
   "metadata": {},
   "outputs": [
    {
     "name": "stdout",
     "output_type": "stream",
     "text": [
      "('int', '<lambda>', (1, 2), {})\n",
      "('float', '<lambda>', (1.0, 2), {})\n"
     ]
    },
    {
     "ename": "BackendNotImplementedError",
     "evalue": "No selected backends had an implementation for this function.",
     "output_type": "error",
     "traceback": [
      "\u001b[0;31m---------------------------------------------------------------------------\u001b[0m",
      "\u001b[0;31mBackendNotImplementedError\u001b[0m                Traceback (most recent call last)",
      "\u001b[0;32m<ipython-input-10-cdc811a82346>\u001b[0m in \u001b[0;36m<module>\u001b[0;34m\u001b[0m\n\u001b[1;32m      2\u001b[0m     \u001b[0mprint\u001b[0m\u001b[0;34m(\u001b[0m\u001b[0mmy_multimethod_with_dispatch\u001b[0m\u001b[0;34m(\u001b[0m\u001b[0;36m1\u001b[0m\u001b[0;34m,\u001b[0m \u001b[0;36m2\u001b[0m\u001b[0;34m)\u001b[0m\u001b[0;34m)\u001b[0m\u001b[0;34m\u001b[0m\u001b[0;34m\u001b[0m\u001b[0m\n\u001b[1;32m      3\u001b[0m     \u001b[0mprint\u001b[0m\u001b[0;34m(\u001b[0m\u001b[0mmy_multimethod_with_dispatch\u001b[0m\u001b[0;34m(\u001b[0m\u001b[0;36m1.0\u001b[0m\u001b[0;34m,\u001b[0m \u001b[0;36m2\u001b[0m\u001b[0;34m)\u001b[0m\u001b[0;34m)\u001b[0m\u001b[0;34m\u001b[0m\u001b[0;34m\u001b[0m\u001b[0m\n\u001b[0;32m----> 4\u001b[0;31m     \u001b[0mprint\u001b[0m\u001b[0;34m(\u001b[0m\u001b[0mmy_multimethod_with_dispatch\u001b[0m\u001b[0;34m(\u001b[0m\u001b[0;34m\"1\"\u001b[0m\u001b[0;34m,\u001b[0m \u001b[0;36m2\u001b[0m\u001b[0;34m)\u001b[0m\u001b[0;34m)\u001b[0m\u001b[0;34m\u001b[0m\u001b[0;34m\u001b[0m\u001b[0m\n\u001b[0m",
      "\u001b[0;31mBackendNotImplementedError\u001b[0m: No selected backends had an implementation for this function."
     ]
    }
   ],
   "source": [
    "with ua.set_backend(DispatchBackendInt), ua.set_backend(DispatchBackendFloat):\n",
    "    print(my_multimethod_with_dispatch(1, 2))\n",
    "    print(my_multimethod_with_dispatch(1.0, 2))\n",
    "    print(my_multimethod_with_dispatch(\"1\", 2))"
   ]
  },
  {
   "cell_type": "markdown",
   "metadata": {},
   "source": [
    "As we can see, the method dispatches fine on `int` and `float` to the correct implementation but raises an error for strings. Let's make a small modification to make even working with `str` possible:"
   ]
  },
  {
   "cell_type": "code",
   "execution_count": 11,
   "metadata": {},
   "outputs": [],
   "source": [
    "# The argument replacer is supposed to replace the args/kwargs\n",
    "# with the right dispatchables\n",
    "def my_ar(args, kwargs, dispatchables):\n",
    "    def replacer(a, b=None):\n",
    "        return dispatchables, {'b': b}\n",
    "    \n",
    "    return replacer(*args, **kwargs)\n",
    "\n",
    "my_multimethod_with_dispatch = ua.generate_multimethod(\n",
    "    lambda a, b=None: (ua.Dispatchable(a, numbers.Number),),\n",
    "    my_ar,  # We put the right thing here.\n",
    "    \"ql_blogpost\"\n",
    ")"
   ]
  },
  {
   "cell_type": "code",
   "execution_count": 12,
   "metadata": {},
   "outputs": [],
   "source": [
    "class DispatchBackendInt:\n",
    "    # A backend can only override methods from its own domain\n",
    "    __ua_domain__ = \"ql_blogpost\"\n",
    "    \n",
    "    @staticmethod\n",
    "    def __ua_function__(func, args, kwargs):\n",
    "        return \"int\", func.__name__, args, kwargs\n",
    "    \n",
    "    @staticmethod\n",
    "    def __ua_convert__(dispatchables, coerce):\n",
    "        converted = []\n",
    "        for d in dispatchables:\n",
    "            if d.type is numbers.Number:\n",
    "                if isinstance(d.value, int):\n",
    "                    converted.append(d.value)\n",
    "                # If we're allowed to coerce it\n",
    "                elif coerce and d.coercible:\n",
    "                    try:\n",
    "                        converted.append(int(d.value))\n",
    "                    # Make sure unsupported conversions are caught\n",
    "                    except TypeError:\n",
    "                        return NotImplemented\n",
    "                else:\n",
    "                    return NotImplemented\n",
    "            else:\n",
    "                # Handle the base case\n",
    "                return NotImplemented\n",
    "        \n",
    "        return converted"
   ]
  },
  {
   "cell_type": "code",
   "execution_count": 13,
   "metadata": {},
   "outputs": [
    {
     "name": "stdout",
     "output_type": "stream",
     "text": [
      "('int', '<lambda>', (1,), {'b': 2})\n"
     ]
    }
   ],
   "source": [
    "with ua.set_backend(DispatchBackendInt, coerce=True):\n",
    "    print(my_multimethod_with_dispatch(\"1\", 2))"
   ]
  },
  {
   "cell_type": "markdown",
   "metadata": {},
   "source": [
    "Note that we must pass the `coerce=True` parameter to make this work, otherwise the method will return `NotImplemented` and fail. Note also that the string has been correctly converted before being passed into the function. I previously [mentioned](https://github.com/numpy/numpy/issues/12974#issuecomment-467197477) [the possibility](https://github.com/dask/dask/pull/4567#issuecomment-471630100) of adding a reverse dispatcher to `__array_function__`, but it was rejected. I have added it to `uarray`, but it is optional."
   ]
  },
  {
   "cell_type": "markdown",
   "metadata": {},
   "source": [
    "## Meta-backends: Backends which may rely on others\n",
    "One other thing easily possible in `uarray` not easily possible in other frameworks is the possibility of meta backends. These are backends which could rely on other backends. Suppose, that a backend wraps other objects and needs to get data out, and then call other backends:"
   ]
  },
  {
   "cell_type": "code",
   "execution_count": 14,
   "metadata": {},
   "outputs": [],
   "source": [
    "class CustomNumber(numbers.Number):\n",
    "    def __init__(self, n):\n",
    "        self.n = n"
   ]
  },
  {
   "cell_type": "code",
   "execution_count": 15,
   "metadata": {},
   "outputs": [],
   "source": [
    "class DispatchBackendCustom:\n",
    "    # A backend can only override methods from its own domain\n",
    "    __ua_domain__ = \"ql_blogpost\"\n",
    "    \n",
    "    @staticmethod\n",
    "    def __ua_function__(func, args, kwargs):\n",
    "        with ua.skip_backend(DispatchBackendCustom):\n",
    "            return (\"Custom\",) + func(*args, **kwargs)\n",
    "            \n",
    "    @staticmethod\n",
    "    def __ua_convert__(dispatchables, coerce):\n",
    "        converted = []\n",
    "        for d in dispatchables:\n",
    "            if d.type is numbers.Number and isinstance(d.value, CustomNumber):\n",
    "                # Access the internal value, no conversion going on\n",
    "                converted.append(d.value.n)\n",
    "            else:\n",
    "                # Handle the base case\n",
    "                return NotImplemented\n",
    "        \n",
    "        return converted"
   ]
  },
  {
   "cell_type": "code",
   "execution_count": 16,
   "metadata": {},
   "outputs": [
    {
     "name": "stdout",
     "output_type": "stream",
     "text": [
      "('Custom', 'int', '<lambda>', (1,), {'b': 2})\n"
     ]
    }
   ],
   "source": [
    "with ua.set_backend(DispatchBackendCustom), ua.set_backend(DispatchBackendInt):\n",
    "    print(my_multimethod_with_dispatch(CustomNumber(1), 2))"
   ]
  },
  {
   "cell_type": "markdown",
   "metadata": {},
   "source": [
    "## Permanent registration of backend\n",
    "`uarray` provides permanent registration for backends, after which the backend will be automatically tried every time. This is user-facing code, and we recommend that no libraries register themselves permanently, apart from reference implementations. This can be done via the [`register_backend`](https://uarray.readthedocs.io/en/latest/generated/uarray.register_backend.html) method."
   ]
  },
  {
   "cell_type": "markdown",
   "metadata": {},
   "source": [
    "## Comparison with `__array_function__`\n",
    "### Replacement and dispatching based on different objects\n",
    "In this section, let’s define a function with `__array_function__`, its `uarray` equivalent and explore the limitations of `__array_function__` and how `uarray` attempts to resolve them. You can see the [NumPy enhancement proposal defining `__array_function__` here](https://www.numpy.org/neps/nep-0018-array-function-protocol.html). Here's a snippet from NumPy showing roughly how `np.sum` would be defined ([current code as of writing here](https://github.com/numpy/numpy/blob/02c8e80d5f65c7870f71c989c425d1bad24bd312/numpy/core/fromnumeric.py#L2040-L2182)):\n",
    "\n",
    "```python\n",
    "def _sum_dispatcher(a, axis=None, dtype=None, out=None, keepdims=None,\n",
    "                    initial=None, where=None):\n",
    "    return (a, out)\n",
    "\n",
    "\n",
    "@array_function_dispatch(_sum_dispatcher)\n",
    "def sum(a, axis=None, dtype=None, out=None, keepdims=np._NoValue,\n",
    "        initial=np._NoValue, where=np._NoValue):\n",
    "    # Default implementation\n",
    "```\n",
    "\n",
    "Here's the equivalent `uarray` code:\n",
    "\n",
    "```python\n",
    "def _sum_ar(a, kw, d):\n",
    "    def replacer(a, axis=None, dtype=None, out=None, **kwargs):\n",
    "        return (d[0],), {'out': d[1], 'axis': d[3], 'dtype': d[2], **kwargs}\n",
    "\n",
    "axis_type = object()\n",
    "\n",
    "@ua.create_multimethod(_sum_ar, \"numpy\", default=np.add.reduce)\n",
    "def sum(a, axis=None, dtype=None, out=None, keepdims=None,\n",
    "        initial=None, where=None):\n",
    "    return (\n",
    "        ua.Dispatchable(a, np.ndarray),\n",
    "        ua.Dispatchable(out, np.ndarray),\n",
    "        ua.Dispatchable(dtype, np.dtype),\n",
    "        ua.Dispatchable(axis, axis_type),\n",
    "    )\n",
    "```\n",
    "\n",
    "This shows the power of `uarray` in a simple example:\n",
    "\n",
    "- Not only can you dispatch based on `ndarray`s, you can convert and replace them too.\n",
    "- You can dispatch based on `dtype`, so (for example), [`ndtypes`](https://github.com/xnd-project/ndtypes) can be supported.\n",
    "- You can dispatch based on `axis`, so XArray could take over when the axes were named.\n",
    "- It allows you to have a fallback *in terms of other multimethods*.\n",
    "- Default keywords are dropped automatically, so one doesn’t need to worry about missing kwargs that will be added later."
   ]
  },
  {
   "cell_type": "markdown",
   "metadata": {},
   "source": [
    "### Replacement of functions without any dispatchables\n",
    "One of the biggest drawbacks of `__array_function__` was the need for what I call a \"protocol soup\". For example, examine [this issue](https://github.com/numpy/numpy/issues/13831) which shows the number of extra functions that are required simply because NumPy can only perform dispatch on functions which accept `array_like` objects.\n",
    "\n",
    "`uarray` solves this in two ways: The first is by allowing the use of a context manager which sets the backend. So, for example, you could do the following:\n",
    "\n",
    "```python\n",
    "with ua.set_backend(dask.array):\n",
    "    x = np.array(...)  # x becomes a Dask array\n",
    "```\n",
    "\n",
    "The second is allowing for dispatch on more object types, so more functions can be dispatched on."
   ]
  },
  {
   "cell_type": "markdown",
   "metadata": {},
   "source": [
    "## Complete example: `np.ones` using `uarray`\n",
    "Here is a complete example of how one would override `np.ones` using `uarray`, with backends for NumPy, Dask, and XArray as examples. I will mention some advanced features one could use but won't implement them myself. For reference, let's see how `np.ones` would work with `__array_function__`: In any codebase using `np.ones`, someone would first have to replace it with `np.ones_like`, and then dispatch using `__array_function__`, which is a bit of a hack, and sort of undesirable. What's more, it would need to be done throughout the codebase. Let’s first begin by defining the multimethod."
   ]
  },
  {
   "cell_type": "code",
   "execution_count": 17,
   "metadata": {},
   "outputs": [],
   "source": [
    "shape_type = object()\n",
    "\n",
    "def ones_ar(a, kw, d):\n",
    "    def replacer(shape, dtype=None, order='C'):\n",
    "        return (d[0],), dict(dtype=d[1], order=order)\n",
    "    return replacer(*a, **kw)\n",
    "\n",
    "@ua.create_multimethod(ones_ar, domain=\"numpy\")\n",
    "def ones(shape, dtype=None, order='C'):\n",
    "    return ua.Dispatchable(shape, shape_type), ua.Dispatchable(dtype, np.dtype)"
   ]
  },
  {
   "cell_type": "markdown",
   "metadata": {},
   "source": [
    "Now, we'll go on to define the NumPy backend, and register it:"
   ]
  },
  {
   "cell_type": "code",
   "execution_count": 18,
   "metadata": {},
   "outputs": [],
   "source": [
    "import collections.abc as collections\n",
    "\n",
    "class NumpyBackend:  # Ideally, this would be the numpy module itself.\n",
    "    __ua_domain__ = \"numpy\"\n",
    "    \n",
    "    @staticmethod\n",
    "    def __ua_function__(f, a, kw):\n",
    "        return getattr(np, f.__name__)(*a, **kw)\n",
    "    \n",
    "    @staticmethod\n",
    "    def __ua_convert__(dispatchables, coerce):\n",
    "        converted = []\n",
    "        \n",
    "        for d in dispatchables:\n",
    "            if d.type is np.ndarray:\n",
    "                try:\n",
    "                    # We ONLY want to coerce if coercion is true.\n",
    "                    if not hasattr(d.value, '__array_interface__') and not (coerce and d.coercible):\n",
    "                        return NotImplemented\n",
    "                    converted.append(np.asarray(d.value))\n",
    "                except (TypeError, ValueError):\n",
    "                    return NotImplemented\n",
    "            elif d.type is shape_type:\n",
    "                if not (isinstance(d.value, numbers.Integral)\n",
    "                        or isinstance(d.value, collections.Iterable)\n",
    "                        and all(isinstance(dim, numbers.Integral) for dim in d.value)):\n",
    "                    return NotImplemented\n",
    "\n",
    "                converted.append(tuple(int(dim) for dim in d.value)\n",
    "                        if isinstance(d.value, collections.Iterable)\n",
    "                        else (int(d.value),))\n",
    "            elif d.type is np.dtype:\n",
    "                try:\n",
    "                    converted.append(np.dtype(d.value))\n",
    "                except (TypeError, ValueError):\n",
    "                    return NotImplemented\n",
    "            else:\n",
    "                # Handle the base case, pass through everything else\n",
    "                converted.append(d.value)\n",
    "        return converted\n",
    "    \n",
    "ua.set_global_backend(NumpyBackend)"
   ]
  },
  {
   "cell_type": "markdown",
   "metadata": {},
   "source": [
    "Since we have set NumPy to be a global backend, it will always work."
   ]
  },
  {
   "cell_type": "code",
   "execution_count": 19,
   "metadata": {},
   "outputs": [
    {
     "data": {
      "text/plain": [
       "array([[1., 1., 1., 1.],\n",
       "       [1., 1., 1., 1.],\n",
       "       [1., 1., 1., 1.]])"
      ]
     },
     "execution_count": 19,
     "metadata": {},
     "output_type": "execute_result"
    }
   ],
   "source": [
    "ones((3, 4))"
   ]
  },
  {
   "cell_type": "markdown",
   "metadata": {},
   "source": [
    "Let’s now move forward to Dask, and how its backend would be defined:"
   ]
  },
  {
   "cell_type": "code",
   "execution_count": 20,
   "metadata": {},
   "outputs": [],
   "source": [
    "import dask.array as da\n",
    "\n",
    "class DaskBackend:  # Ideally, this would be the dask.array module itself.\n",
    "    __ua_domain__ = \"numpy\"\n",
    "    \n",
    "    @staticmethod\n",
    "    def __ua_function__(f, a, kw):\n",
    "        return getattr(da, f.__name__)(*a, **kw)\n",
    "    \n",
    "    @staticmethod\n",
    "    def __ua_convert__(dispatchables, coerce):\n",
    "        converted = []\n",
    "        \n",
    "        for d in dispatchables:\n",
    "            if d.type is np.ndarray:\n",
    "                try:\n",
    "                    # We ONLY want to coerce if coercion is true.\n",
    "                    if not hasattr(d.value, '__array_interface__') and not (coerce and d.coercible):\n",
    "                        return NotImplemented\n",
    "                    converted.append(da.asarray(d.value))\n",
    "                except (TypeError, ValueError):\n",
    "                    return NotImplemented\n",
    "            else:\n",
    "                # Pass through everything else, we only want to dispatch on arrays.\n",
    "                converted.append(d.value)\n",
    "        return converted"
   ]
  },
  {
   "cell_type": "code",
   "execution_count": 21,
   "metadata": {},
   "outputs": [
    {
     "name": "stdout",
     "output_type": "stream",
     "text": [
      "dask.array<ones, shape=(3, 4), dtype=float64, chunksize=(3, 4)>\n"
     ]
    }
   ],
   "source": [
    "with ua.set_backend(DaskBackend):\n",
    "    print(ones((3, 4)))"
   ]
  },
  {
   "cell_type": "markdown",
   "metadata": {},
   "source": [
    "Note how a simple context manager allows things to magically work, unlike in `__array_function__` where array creation functions are not supported at all.\n",
    "\n",
    "Here are a few things that could be done by Dask:\n",
    "\n",
    "1. It could depend on `unumpy` and become a true, agnostic, meta-array.\n",
    "2. It could define a backend factory, which automatically inserts the chunk sizes into functions.\n",
    "\n",
    "Next, let’s move on to XArray."
   ]
  },
  {
   "cell_type": "code",
   "execution_count": 22,
   "metadata": {},
   "outputs": [],
   "source": [
    "import xarray\n",
    "\n",
    "def xarray_ones(shape, dtype=None):\n",
    "    data = ones(tuple(shape.values()), dtype=dtype)\n",
    "    return xarray.DataArray(data, dims=tuple(shape.keys()))\n",
    "\n",
    "class XarrayBackend:  # Ideally, this would be the xarray module itself.\n",
    "    __ua_domain__ = \"numpy\"\n",
    "    \n",
    "    @staticmethod\n",
    "    def __ua_function__(f, a, kw):\n",
    "        with ua.skip_backend(XarrayBackend):\n",
    "            if f is ones:\n",
    "                return xarray_ones(*a, **kw)\n",
    "        \n",
    "        return NotImplemented\n",
    "    \n",
    "    @staticmethod\n",
    "    def __ua_convert__(dispatchables, coerce):\n",
    "        converted = []\n",
    "        \n",
    "        for d in dispatchables:\n",
    "            if d.type is np.ndarray:\n",
    "                try:\n",
    "                    # We ONLY want to coerce if coercion is true.\n",
    "                    if not hasattr(d.value, '__array_interface__') and not (coerce and d.coercible):\n",
    "                        return NotImplemented\n",
    "                    converted.append(xarray.Dataset(d.value))\n",
    "                except (TypeError, ValueError):\n",
    "                    return NotImplemented\n",
    "            elif d.type is shape_type:\n",
    "                if not (isinstance(d.value, dict)\n",
    "                        and all(\n",
    "                            isinstance(k, str)\n",
    "                            and isinstance(v, numbers.Integral)\n",
    "                            for k, v in d.value.items()\n",
    "                        )):\n",
    "                    return NotImplemented\n",
    "\n",
    "                converted.append({k: int(v) for k, v in d.value.items()})\n",
    "            elif d.type is np.dtype:\n",
    "                try:\n",
    "                    converted.append(np.dtype(d.value))\n",
    "                except (TypeError, ValueError):\n",
    "                    return NotImplemented\n",
    "            else:\n",
    "                # Handle the base case, pass through everything else\n",
    "                converted.append(d.value)\n",
    "        return converted"
   ]
  },
  {
   "cell_type": "code",
   "execution_count": 23,
   "metadata": {},
   "outputs": [
    {
     "name": "stdout",
     "output_type": "stream",
     "text": [
      "<xarray.DataArray (t: 3, x: 5)>\n",
      "array([[1., 1., 1., 1., 1.],\n",
      "       [1., 1., 1., 1., 1.],\n",
      "       [1., 1., 1., 1., 1.]])\n",
      "Dimensions without coordinates: t, x\n"
     ]
    }
   ],
   "source": [
    "with ua.set_backend(XarrayBackend):\n",
    "    print(ones({'t': 3, 'x': 5}))"
   ]
  },
  {
   "cell_type": "markdown",
   "metadata": {},
   "source": [
    "Note here how a shape as a dictionary was automatically intercepted by XArray, and creates a suitable `DataArray`. This would simply not be possible in `__array_function__`. Let's explore a more exotic case:"
   ]
  },
  {
   "cell_type": "code",
   "execution_count": 24,
   "metadata": {},
   "outputs": [
    {
     "name": "stdout",
     "output_type": "stream",
     "text": [
      "<xarray.DataArray 'ones-c74937aa1cf5a1e9c9dd0ca4c337fd2c' (t: 3, x: 5)>\n",
      "dask.array<shape=(3, 5), dtype=float64, chunksize=(3, 5)>\n",
      "Dimensions without coordinates: t, x\n"
     ]
    }
   ],
   "source": [
    "with ua.set_backend(DaskBackend), ua.set_backend(XarrayBackend):\n",
    "    print(ones({'t': 3, 'x': 5}))"
   ]
  },
  {
   "cell_type": "markdown",
   "metadata": {},
   "source": [
    "And just like that, you can compose the two, without either having to be aware of the other!"
   ]
  },
  {
   "cell_type": "markdown",
   "metadata": {},
   "source": [
    "## The overhead of `uarray`\n",
    "\n",
    "One of the limiting factors in the adoption of `uarray` has been its overhead. This is currently [being brought down](https://github.com/Quansight-Labs/uarray/pull/170) by [Peter Bell](https://github.com/peterbell10), a GSoC student working on `uarray`, who is working on a C++ implementation of the protocol. As of the last version, the overhead on my machine was about 449 ns per call (or about 12.4 Python function calls) for a simple function with no parameters that returns nothing, and this is still being worked on. You can follow the [updates on Peter’s work here](https://blogs.python-gsoc.org/en/blogs/peterbell10s-blog/). It is also being [merged into `scipy.fft`](https://github.com/scipy/scipy/pull/10383) as part of his ongoing GSoC work."
   ]
  },
  {
   "cell_type": "markdown",
   "metadata": {},
   "source": [
    "## Conclusion\n",
    "`uarray` provides a strong contender for a multiple-dispatch solution for array computing, and an alternative to `__array_function__`. While it is more feature-complete, it also needs a bit more boilerplate and has higher overhead than `__array_function__`. Here's to hoping for more options in the array computing space, and to separating the API from the implementation, which always opens more pathways to future improvement."
   ]
  }
 ],
 "metadata": {
  "kernelspec": {
   "display_name": "Python 3",
   "language": "python",
   "name": "python3"
  },
  "language_info": {
   "codemirror_mode": {
    "name": "ipython",
    "version": 3
   },
   "file_extension": ".py",
   "mimetype": "text/x-python",
   "name": "python",
   "nbconvert_exporter": "python",
   "pygments_lexer": "ipython3",
   "version": "3.9.10"
  },
  "nikola": {
   "author": "Hameer Abbasi",
   "category": "",
   "date": "2019-07-03 06:36:54 UTC-05:00",
   "description": "",
   "link": "",
   "slug": "uarray-update-api-changes-overhead-and-comparison-to-__array_function__",
   "tags": "uarray, Array API",
   "title": "uarray update: API changes, overhead and comparison to __array_function__",
   "type": "text"
  }
 },
 "nbformat": 4,
 "nbformat_minor": 2
}
