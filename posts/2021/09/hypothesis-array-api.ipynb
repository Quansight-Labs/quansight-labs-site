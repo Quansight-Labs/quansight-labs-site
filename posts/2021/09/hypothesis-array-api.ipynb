{
 "cells": [
  {
   "cell_type": "markdown",
   "id": "6a4d5159-a519-45db-8198-e4a30bab649c",
   "metadata": {},
   "source": [
    "Over the summer I've been developing testing tools\n",
    "for the developers and users\n",
    "of the upcoming [Array API](https://data-apis.org/) standard.\n",
    "Specifically I contributed \"strategies\" to the testing library [Hypothesis](https://github.com/HypothesisWorks/hypothesis/),\n",
    "which I'm very excited to announce\n",
    "is now available in [`hypothesis.extra.array_api`](https://hypothesis.readthedocs.io/en/latest/numpy.html#array-api)\n",
    "since its recent version 6.21.0 release.\n",
    "\n",
    "This blog post will be a gentle introduction\n",
    "to how you could start using Hypothesis\n",
    "to test your array-consuming functions.\n",
    "I demonstrate a typical workflow\n",
    "one would have\n",
    "writing a generalised cumulative sums function—think [`np.cumsum()`](https://numpy.org/doc/stable/reference/generated/numpy.cumsum.html)\n",
    "that would work for *all* [libraries adopting the Array API](https://data-apis.org/array-api/latest/purpose_and_scope.html#stakeholders)."
   ]
  },
  {
   "cell_type": "markdown",
   "id": "654396e0",
   "metadata": {},
   "source": [
    "### Before we begin\n",
    "\n",
    "As well as requiring Hypothesis >= 6.21,\n",
    "we need NumPy >= 1.22\n",
    "so that we can test with its\n",
    "[recently merged](https://github.com/numpy/numpy/pull/18585)\n",
    "Array API implementation.\n",
    "This hasn't been released yet,\n",
    "so if you want to play around with it\n",
    "I would recommend getting the [nightly builds](https://anaconda.org/scipy-wheels-nightly/numpy).\n",
    "\n",
    "I will be using\n",
    "the excellent [ipytest](https://github.com/chmp/ipytest/)\n",
    "to nicely run tests\n",
    "in Jupyter.\n",
    "I also suppress all warnings\n",
    "for convenience's sake."
   ]
  },
  {
   "cell_type": "code",
   "execution_count": 1,
   "id": "c4a3cb4a-c6db-442b-9507-bedd03aabbe0",
   "metadata": {},
   "outputs": [],
   "source": [
    "%%capture\n",
    "!pip install hypothesis>=6.21\n",
    "!pip install -i https://pypi.anaconda.org/scipy-wheels-nightly/simple numpy"
   ]
  },
  {
   "cell_type": "code",
   "execution_count": 2,
   "id": "43dd3731-a8d2-47b3-b88e-10eddc645f34",
   "metadata": {},
   "outputs": [],
   "source": [
    "%%capture\n",
    "!pip install ipytest\n",
    "import ipytest; ipytest.autoconfig()"
   ]
  },
  {
   "cell_type": "code",
   "execution_count": 3,
   "id": "2f5d822b",
   "metadata": {},
   "outputs": [],
   "source": [
    "import warnings; warnings.filterwarnings(\"ignore\")"
   ]
  },
  {
   "cell_type": "markdown",
   "id": "06545d86-904a-44ca-83c5-d5304a251d55",
   "metadata": {},
   "source": [
    "### What the Array API enables\n",
    "\n",
    "The [API](https://data-apis.org/array-api/latest/) standardises functionality of array libraries, which has [numerous benefits](https://data-apis.org/array-api/latest/use_cases.html) for both developers and users.\n",
    "If you've used NumPy before you'll feel right at home!\n",
    "\n",
    "The most exciting prospect for me\n",
    "is being able to easily write an array-consuming method\n",
    "that works all the adopting libraries.\n",
    "Let's try writing this method\n",
    "to calculate the cumulative sums of an array—"
   ]
  },
  {
   "cell_type": "code",
   "execution_count": 4,
   "id": "893afcdb-66cb-4d54-b9b0-071c3f411e82",
   "metadata": {},
   "outputs": [],
   "source": [
    "def cumsum(x):\n",
    "    \"\"\"Return the cumulative sum of the elements.\"\"\"\n",
    "    xp = x.__array_namespace__()\n",
    "    \n",
    "    result = xp.empty(x.size, dtype=x.dtype)\n",
    "    result[0] = x[0]\n",
    "    for i in range(1, x.size):\n",
    "        result[i] = result[i - 1] + x[i]\n",
    "        \n",
    "    return result"
   ]
  },
  {
   "cell_type": "markdown",
   "id": "ed669b65",
   "metadata": {},
   "source": [
    "The all-important\n",
    "[`__array_namespace__()`](https://data-apis.org/array-api/latest/API_specification/array_object.html#method-array-namespace) method\n",
    "allows array-consuming methods to get the array's respective Array API module.\n",
    "Conventionally we assign it to the variable `xp`.\n",
    "\n",
    "From there you just need to rely on the guarantees of the Array API\n",
    "and you're suddenly supporting NumPy, TensorFlow, PyTorch, etc.\n",
    "all in one simple method!"
   ]
  },
  {
   "cell_type": "markdown",
   "id": "6e824f0f",
   "metadata": {},
   "source": [
    "### Good ol' unit tests\n",
    "\n",
    "I'm not the biggest fan of TDD [per-say](https://twitter.com/simonw/status/1424457164001669122),\n",
    "but in any case I hope you'd want write some tests at some point.\n",
    "\n",
    "We can import NumPy's Array API implementation\n",
    "and test with that for now—in the future it'd be a good idea to try other implementations!."
   ]
  },
  {
   "cell_type": "code",
   "execution_count": 5,
   "id": "cb1e47fe-863a-4ff6-913a-572da5985d04",
   "metadata": {},
   "outputs": [
    {
     "name": "stdout",
     "output_type": "stream",
     "text": [
      "\u001b[32m.\u001b[0m\u001b[32m                                                                                            [100%]\u001b[0m\n",
      "\u001b[32m\u001b[32m\u001b[1m1 passed\u001b[0m\u001b[32m in 0.01s\u001b[0m\u001b[0m\n"
     ]
    }
   ],
   "source": [
    "from numpy import array_api as nxp\n",
    "\n",
    "def test_cumsum():\n",
    "    x = nxp.asarray([0, 1, 2, 3, 4])\n",
    "    assert nxp.all(cumsum(x) == nxp.asarray([0, 1, 3, 6, 10]))\n",
    "    \n",
    "ipytest.run(\"-k cumsum\")"
   ]
  },
  {
   "cell_type": "markdown",
   "id": "098c6b37",
   "metadata": {},
   "source": [
    "I would probably write a [parametrized](https://docs.pytest.org/en/stable/parametrize.html) test here\n",
    "and write cases to cover all the interesting scenarios I can think of.\n",
    "Whatever we do,\n",
    "we will definitely miss some edge cases.\n",
    "What if we could catch bugs\n",
    "we would never think of ourselves?"
   ]
  },
  {
   "cell_type": "markdown",
   "id": "fd6530d8-3072-464e-8322-a51a877f5b70",
   "metadata": {},
   "source": [
    "### Testing our assumptions with Hypothesis\n",
    "\n",
    "Hypothesis is a property-based testing library—I'll quote their excellent [docs](https://hypothesis.readthedocs.io/en/latest/index.html)\n",
    "to summarise how it works.\n",
    "\n",
    "> Think of a normal unit test as being something like the following:\n",
    "> 1. Set up some data.\n",
    "> 2. Perform some operations on the data.\n",
    "> 3. Assert something about the result.\n",
    ">\n",
    "> Hypothesis lets you write tests which instead look like this:\n",
    "> 1. For all data matching some specification.\n",
    "> 2. Perform some operations on the data.\n",
    "> 3. Assert something about the result.\n",
    "\n",
    "You almost certainly will find new bugs with Hypothesis\n",
    "thanks to how it cleverly fuzzes your specifications,\n",
    "but the package really shines is how it [\"reduces\" failing test cases](https://drmaciver.github.io/papers/reduction-via-generation-preview.pdf)\n",
    "to present only the minimal reproducer that trigger said bugs.\n",
    "This demo will showcase both its power and user-friendliness.\n",
    "\n",
    "Let's try testing a simple assumption that we can make about our `cumsum()` method:\n",
    "\n",
    "> For an array with positive elements,\n",
    "> its cumulative sums should only increment or remain the same per step.\n",
    "\n",
    "<!--Formally we might express this assumption as $\\forall i \\in \\{1,\\ldots,\\vert x \\vert \\}.f(x)_i - f(x)_{i-1} \\geq 0$.-->\n",
    "<!--Formally you might specify this assumption as\n",
    "\"if $A$ is a $n$-lengthed ordered set\n",
    "containing values $v$ that satisfy $v\\in\\mathbb{R}$ and  $v\\geq0$,\n",
    "for the cumulative sums function $f$ defined as $f(A)_j = \\sum_{i=1}^j A_i$,\n",
    "when $j > 1$ the following is always true: $f(A)_j \\geq f(A)_{j-1}$.\"-->\n",
    "\n",
    "We can write a simple enough Hypothesis-powered test method for this—"
   ]
  },
  {
   "cell_type": "code",
   "execution_count": 6,
   "id": "e16ec818-c666-4951-bf4b-5c49d226e417",
   "metadata": {},
   "outputs": [],
   "source": [
    "from hypothesis import given\n",
    "from hypothesis.extra.array_api import make_strategies_namespace\n",
    "\n",
    "xps = make_strategies_namespace(nxp)\n",
    "\n",
    "@given(xps.arrays(dtype=\"uint8\", shape=10))\n",
    "def test_cumsum_pos_arrays_accumulate(x):\n",
    "    a = cumsum(x)\n",
    "    assert nxp.all(a[1:] >= a[:-1])"
   ]
  },
  {
   "cell_type": "markdown",
   "id": "8a20a10e-f7ec-48ac-bafb-85e51f570263",
   "metadata": {},
   "source": [
    "As the Array API tools provided by Hypothesis\n",
    "are agnostic to the adopting array/tensor libraries,\n",
    "we first need to bind an implementation\n",
    "via [`make_strategies_namespace()`](https://hypothesis.readthedocs.io/en/latest/numpy.html#hypothesis.extra.array_api.make_strategies_namespace).\n",
    "Passing `numpy.array_api` will give us\n",
    "a [`SimpleNamespace`](https://docs.python.org/3/library/types.html#types.SimpleNamespace)\n",
    "to use these tools for NumPy's Array API implementation.\n",
    "\n",
    "The [`@given()`](https://hypothesis.readthedocs.io/en/latest/details.html#hypothesis.given) decorator\n",
    "tells Hypothesis what values it should generate for our test method.\n",
    "In this case\n",
    "[`xps.arrays()`](https://hypothesis.readthedocs.io/en/latest/numpy.html#xps.arrays) is a \"search strategy\" \n",
    "that specifies Array API-compliant arrays from `numpy.array_api`\n",
    "should be generated.\n",
    "\n",
    "In this case,\n",
    "`shape=10` specifies the arrays generated are 1-dimensional and of size 10,\n",
    "and `dtype=\"uint8`  specifies they should contain unsigned integers\n",
    "(which is handy for our test method as uints are always positive).\n",
    "Let's quickly see a small sample of the arrays Hypothesis can generate—"
   ]
  },
  {
   "cell_type": "code",
   "execution_count": 7,
   "id": "d60a6f47-4ef0-41dc-ab17-8506d5203937",
   "metadata": {},
   "outputs": [
    {
     "name": "stdout",
     "output_type": "stream",
     "text": [
      "[ 51 118  63 162 133 177 185  28 156 115]\n",
      "[123  84 122 142  54  26 244 129 220 253]\n",
      "[  0 255 254 253 252 251 250 249 248 247]\n",
      "[ 99  63  60  75 148 171 174 153 255 198]\n",
      "[203   0 254 253 252 251 250 249 248 247]\n",
      "[118  31  82 227 216 186   3 101 173   7]\n",
      "[198 174  70 253 177  97 254   8 202  40]\n",
      "[103   0 254 253 252 251 250 249 248 247]\n",
      "[152 135   5 211 121 237 182 243 128 104]\n",
      "[160   0 254 253 252 251 250 249 248 247]\n"
     ]
    }
   ],
   "source": [
    "for _ in range(10):\n",
    "    x = xps.arrays(dtype=\"uint8\", shape=10, unique=True).example()\n",
    "    print(x)"
   ]
  },
  {
   "cell_type": "markdown",
   "id": "3d92b309-6d61-4405-9121-a43d69548ebc",
   "metadata": {},
   "source": [
    "How Hypothesis \"draws\" from its strategies can look rather unremarkable at first.\n",
    "A small sample of draws might look fairly uniform\n",
    "but trust that strategies will end up covering all kinds of edge cases.\n",
    "Importantly it will cover these cases effeciently\n",
    "so that Hypothesis-powered tests are relatively quick to run on your machine.\n",
    "\n",
    "All our test method does is get the cumulative sums array `a`\n",
    "that is returned from `cumsum(x)`,\n",
    "and then check that every element `a[i]`\n",
    "is greater than or equal to `a[i-1]`.\n",
    "\n",
    "Time to run it!"
   ]
  },
  {
   "cell_type": "code",
   "execution_count": 8,
   "id": "3844f19b-32a4-4673-8467-03164942927b",
   "metadata": {},
   "outputs": [
    {
     "name": "stdout",
     "output_type": "stream",
     "text": [
      "\u001b[31mF\u001b[0m\u001b[31m                                                                                            [100%]\u001b[0m\n",
      "============================================= FAILURES =============================================\n",
      "\u001b[31m\u001b[1m________________________________ test_cumsum_pos_arrays_accumulate _________________________________\u001b[0m\n",
      "\n",
      "    \u001b[37m@given\u001b[39;49;00m(xps.arrays(dtype=\u001b[33m\"\u001b[39;49;00m\u001b[33muint8\u001b[39;49;00m\u001b[33m\"\u001b[39;49;00m, shape=\u001b[94m10\u001b[39;49;00m))\n",
      ">   \u001b[94mdef\u001b[39;49;00m \u001b[92mtest_cumsum_pos_arrays_accumulate\u001b[39;49;00m(x):\n",
      "\n",
      "\u001b[1m\u001b[31m<cell>\u001b[0m:7: \n",
      "_ _ _ _ _ _ _ _ _ _ _ _ _ _ _ _ _ _ _ _ _ _ _ _ _ _ _ _ _ _ _ _ _ _ _ _ _ _ _ _ _ _ _ _ _ _ _ _ _ _ \n",
      "\n",
      "x = Array([26, 26, 26, 26, 26, 26, 26, 26, 26, 26], dtype=uint8)\n",
      "\n",
      "    \u001b[37m@given\u001b[39;49;00m(xps.arrays(dtype=\u001b[33m\"\u001b[39;49;00m\u001b[33muint8\u001b[39;49;00m\u001b[33m\"\u001b[39;49;00m, shape=\u001b[94m10\u001b[39;49;00m))\n",
      "    \u001b[94mdef\u001b[39;49;00m \u001b[92mtest_cumsum_pos_arrays_accumulate\u001b[39;49;00m(x):\n",
      "        a = cumsum(x)\n",
      ">       \u001b[94massert\u001b[39;49;00m nxp.all(a[\u001b[94m1\u001b[39;49;00m:] >= a[:-\u001b[94m1\u001b[39;49;00m])\n",
      "\u001b[1m\u001b[31mE       assert Array(False, dtype=bool)\u001b[0m\n",
      "\u001b[1m\u001b[31mE        +  where Array(False, dtype=bool) = <function all at 0x7fccd95528b0>(Array([ 52,  78, 104, 130, 156, 182, 208, 234,   4], dtype=uint8) >= Array([ 26,  52,  78, 104, 130, 156, 182, 208, 234], dtype=uint8))\u001b[0m\n",
      "\u001b[1m\u001b[31mE        +    where <function all at 0x7fccd95528b0> = nxp.all\u001b[0m\n",
      "\n",
      "\u001b[1m\u001b[31m<cell>\u001b[0m:9: AssertionError\n",
      "-------------------------------------------- Hypothesis --------------------------------------------\n",
      "Falsifying example: test_cumsum_pos_arrays_accumulate(\n",
      "    x=Array([26, 26, 26, 26, 26, 26, 26, 26, 26, 26], dtype=uint8),\n",
      ")\n",
      "===================================== short test summary info ======================================\n",
      "FAILED <cell>::test_cumsum_pos_arrays_accumulate - assert Array(False, dtype=bool)\n",
      "\u001b[31m\u001b[31m\u001b[1m1 failed\u001b[0m, \u001b[33m1 deselected\u001b[0m\u001b[31m in 0.23s\u001b[0m\u001b[0m\n"
     ]
    }
   ],
   "source": [
    "ipytest.run(\"-k cumsum_pos_arrays_accumulate\", \"--hypothesis-seed=3\")"
   ]
  },
  {
   "cell_type": "markdown",
   "id": "4d9482e0-33e2-46be-8f43-affd4074818f",
   "metadata": {},
   "source": [
    "Hypothesis has tested our assumption\n",
    "and told us we're wrong!\n",
    "It should provide us with the following falsifying example:\n",
    "\n",
    "```python\n",
    ">>> x = xp.full(10, 26, dtype=xp.uint8)\n",
    ">>> x\n",
    "Array([ 26,  26,  26,  26,  26,  26,  26,  26,  26,  26], dtype=uint8)\n",
    ">>> cumsum(x)\n",
    "Array([ 26,  52,  78, 104, 130, 156, 182, 208, 234,   4], dtype=uint8)\n",
    "```\n",
    "\n",
    "You can see that an overflow error has occured for the final cumulative sum,\n",
    "as 234 + 26 (260) cannot be represented in 8-bit unsigned integers.\n",
    "\n",
    "Let's try promoting the dtype of the cumulative sums array\n",
    "so that it can represent larger numbers,\n",
    "and then we can run the test again."
   ]
  },
  {
   "cell_type": "code",
   "execution_count": 9,
   "id": "ab2389bd-4a38-4aa5-a6c2-efb81b78cf2d",
   "metadata": {},
   "outputs": [
    {
     "name": "stdout",
     "output_type": "stream",
     "text": [
      "\n",
      "\u001b[33m\u001b[33m\u001b[1m2 deselected\u001b[0m\u001b[33m in 0.00s\u001b[0m\u001b[0m\n"
     ]
    }
   ],
   "source": [
    "def max_dtype(xp, dtype):\n",
    "    if dtype in [getattr(xp, name) for name in (\"int8\", \"int16\", \"int32\", \"int64\")]:\n",
    "        return xp.int64\n",
    "    elif dtype in [getattr(xp, name) for name in (\"uint8\", \"uint16\", \"uint32\", \"uint64\")]:\n",
    "        return xp.uint64\n",
    "    else:\n",
    "        return xp.float64\n",
    "    \n",
    "def cumsum(x):\n",
    "    xp = x.__array_namespace__()\n",
    "    \n",
    "    result = xp.empty(x.size, dtype=max_dtype(xp, x.dtype))\n",
    "    result[0] = x[0]\n",
    "    for i in range(1, x.size):\n",
    "        result[i] = result[i - 1] + x[i]\n",
    "        \n",
    "    return result\n",
    "\n",
    "ipytest.run(\"-k cumsum_uint8_arrays_accumulate\")"
   ]
  },
  {
   "cell_type": "markdown",
   "id": "2bdbfbc3-0508-40c8-8828-f1822e3dbbdb",
   "metadata": {},
   "source": [
    "You can see another assumption about our code is:\n",
    "\n",
    "> We can find the cumulative sums of arrays of any scalar dtype.\n",
    "\n",
    "We should cover this assumption in our test method `test_cumsum_pos_arrays_accumulate`\n",
    "by passing child search strategies\n",
    "into our [`xps.arrays()`](https://hypothesis.readthedocs.io/en/latest/numpy.html#xps.arrays) parent strategy.\n",
    "Specifying `dtype` as [`xps.scalar_dtypes()`](https://hypothesis.readthedocs.io/en/latest/numpy.html#xps.scalar_dtypes)\n",
    "will tell Hypothesis to generate arrays of all scalar dtypes.\n",
    "To specify that these array values should be positive,\n",
    "we can just pass keyword arguments to the underlying\n",
    "value generating strategy [`xps.from_dtype()`](https://hypothesis.readthedocs.io/en/latest/numpy.html#xps.from_dtype)\n",
    "via `elements={\"min_value\": 0}`.\n",
    "\n",
    "And while we're at it, let's make sure to cover another assumption:\n",
    "\n",
    "> We can find the cumulative sums of arrays with multiple dimensions.\n",
    "\n",
    "Specifying `shape` as [`xps.array_shapes()`](https://hypothesis.readthedocs.io/en/latest/numpy.html#xps.array_shapes)\n",
    "will tell Hypothesis to generate arrays of various dimensionality and sizes.\n",
    "We can [filter](https://hypothesis.readthedocs.io/en/latest/data.html#filtering)\n",
    "this strategy with `lambda s: prod(s) > 1`\n",
    "so that always `x.size > 1`\n",
    "(to allow our test code to work)."
   ]
  },
  {
   "cell_type": "code",
   "execution_count": 10,
   "id": "713e4267-2615-4e5f-bb35-0d1cf6f57278",
   "metadata": {},
   "outputs": [
    {
     "name": "stdout",
     "output_type": "stream",
     "text": [
      "\u001b[31mF\u001b[0m\u001b[31m                                                                                            [100%]\u001b[0m\n",
      "============================================= FAILURES =============================================\n",
      "\u001b[31m\u001b[1m________________________________ test_cumsum_pos_arrays_accumulate _________________________________\u001b[0m\n",
      "\n",
      "    \u001b[37m@given\u001b[39;49;00m(\n",
      ">       xps.arrays(\n",
      "            dtype=xps.scalar_dtypes(),\n",
      "            shape=xps.array_shapes().filter(\u001b[94mlambda\u001b[39;49;00m s: prod(s) > \u001b[94m1\u001b[39;49;00m),\n",
      "            elements={\u001b[33m\"\u001b[39;49;00m\u001b[33mmin_value\u001b[39;49;00m\u001b[33m\"\u001b[39;49;00m: \u001b[94m0\u001b[39;49;00m},\n",
      "        )\n",
      "    )\n",
      "\u001b[1m\u001b[31mE   hypothesis.errors.MultipleFailures: Hypothesis found 2 distinct failures.\u001b[0m\n",
      "\n",
      "\u001b[1m\u001b[31m<cell>\u001b[0m:5: MultipleFailures\n",
      "-------------------------------------------- Hypothesis --------------------------------------------\n",
      "Falsifying example: test_cumsum_pos_arrays_accumulate(\n",
      "    x=Array([[False, False]], dtype=bool),\n",
      ")\n",
      "TypeError: only size-1 arrays can be converted to Python scalars\n",
      "\n",
      "The above exception was the direct cause of the following exception:\n",
      "\n",
      "Traceback (most recent call last):\n",
      "  File \"<cell>\", line 12, in test_cumsum_pos_arrays_accumulate\n",
      "    a = cumsum(x)\n",
      "  File \"<cell>\", line 13, in cumsum\n",
      "    result[0] = x[0]\n",
      "  File \"<env>/numpy/array_api/_array_object.py\", line 657, in __setitem__\n",
      "    self._array.__setitem__(key, asarray(value)._array)\n",
      "ValueError: setting an array element with a sequence.\n",
      "\n",
      "Falsifying example: test_cumsum_pos_arrays_accumulate(\n",
      "    x=Array([False, False], dtype=bool),\n",
      ")\n",
      "Traceback (most recent call last):\n",
      "  File \"<cell>\", line 12, in test_cumsum_pos_arrays_accumulate\n",
      "    a = cumsum(x)\n",
      "  File \"<cell>\", line 15, in cumsum\n",
      "    result[i] = result[i - 1] + x[i]\n",
      "  File \"<env>/numpy/array_api/_array_object.py\", line 362, in __add__\n",
      "    other = self._check_allowed_dtypes(other, \"numeric\", \"__add__\")\n",
      "  File \"<env>/numpy/array_api/_array_object.py\", line 125, in _check_allowed_dtypes\n",
      "    raise TypeError(f\"Only {dtype_category} dtypes are allowed in {op}\")\n",
      "TypeError: Only numeric dtypes are allowed in __add__\n",
      "===================================== short test summary info ======================================\n",
      "FAILED <cell>::test_cumsum_pos_arrays_accumulate - hypothesis.errors.MultipleFailures: Hy...\n",
      "\u001b[31m\u001b[31m\u001b[1m1 failed\u001b[0m, \u001b[33m1 deselected\u001b[0m\u001b[31m in 0.42s\u001b[0m\u001b[0m\n"
     ]
    }
   ],
   "source": [
    "from math import prod\n",
    "from hypothesis import settings\n",
    "\n",
    "@given(\n",
    "    xps.arrays(\n",
    "        dtype=xps.scalar_dtypes(),\n",
    "        shape=xps.array_shapes().filter(lambda s: prod(s) > 1),\n",
    "        elements={\"min_value\": 0},\n",
    "    )\n",
    ")\n",
    "def test_cumsum_pos_arrays_accumulate(x):\n",
    "    a = cumsum(x)\n",
    "    assert nxp.all(a[1:] >= a[:-1])\n",
    "    \n",
    "ipytest.run(\"-k cumsum_pos_arrays_accumulate\", \"--hypothesis-seed=3\")"
   ]
  },
  {
   "cell_type": "markdown",
   "id": "73fd0ff6",
   "metadata": {},
   "source": [
    "Again Hypothesis has proved our assumptions wrong.\n",
    "This time it's found two problems.\n",
    "\n",
    "Firstly, our `cumsum()` method doesn't adjust for boolean arrays,\n",
    "so we get an error when we blindly add two `bool` values together.\n",
    "\n",
    "```python\n",
    ">>> x = xp.zeros(2, dtype=xp.bool)\n",
    ">>> x\n",
    "Array([False, False], dtype=bool)\n",
    ">>> cumsum(x)\n",
    "Traceback:\n",
    "  <cell>, line 15, in cumsum\n",
    "    result[i] = result[i - 1] + x[i]\n",
    "  ...\n",
    "TypeError: Only numeric dtypes are allowed in __add__\n",
    "```\n",
    "   \n",
    "Secondly, our `cumsum()` method is assuming arrays are 1-dimensional,\n",
    "so we get an error when we blindly\n",
    "assume`x[0]` will always return a single scalar\n",
    "(technically a 0-dimensional array).\n",
    "\n",
    "```python\n",
    ">>> x = xp.zeros((1, 2), dtype=xp.bool)\n",
    ">>> x\n",
    "Array([[False, False]], dtype=bool)\n",
    ">>> cumsum(x)\n",
    "Traceback:\n",
    "  <cell>, line 13, in cumsum\n",
    "    result[0] = x[0]\n",
    "  ...\n",
    "TypeError: only size-1 arrays can be converted to Python scalars\n",
    "```\n",
    "\n",
    "So I'm going to\n",
    "flatten input arrays\n",
    "and convert the boolean arrays to integer arrays of `0` and `1`.\n",
    "Of-course we'll run the test again to make sure our updated `cumsum()` method now works."
   ]
  },
  {
   "cell_type": "code",
   "execution_count": 11,
   "id": "54507222-cd61-45d6-a345-adcee0dc70b1",
   "metadata": {},
   "outputs": [
    {
     "name": "stdout",
     "output_type": "stream",
     "text": [
      "\u001b[31mF\u001b[0m\u001b[31m                                                                                            [100%]\u001b[0m\n",
      "============================================= FAILURES =============================================\n",
      "\u001b[31m\u001b[1m________________________________ test_cumsum_pos_arrays_accumulate _________________________________\u001b[0m\n",
      "\n",
      "    \u001b[37m@given\u001b[39;49;00m(\n",
      ">       xps.arrays(\n",
      "            dtype=xps.scalar_dtypes(),\n",
      "            shape=xps.array_shapes().filter(\u001b[94mlambda\u001b[39;49;00m s: prod(s) > \u001b[94m1\u001b[39;49;00m),\n",
      "            elements={\u001b[33m\"\u001b[39;49;00m\u001b[33mmin_value\u001b[39;49;00m\u001b[33m\"\u001b[39;49;00m: \u001b[94m0\u001b[39;49;00m},\n",
      "        )\n",
      "    )\n",
      "\n",
      "\u001b[1m\u001b[31m<cell>\u001b[0m:5: \n",
      "_ _ _ _ _ _ _ _ _ _ _ _ _ _ _ _ _ _ _ _ _ _ _ _ _ _ _ _ _ _ _ _ _ _ _ _ _ _ _ _ _ _ _ _ _ _ _ _ _ _ \n",
      "\n",
      "x = Array([4611686018427387904, 4611686018427387904], dtype=int64)\n",
      "\n",
      "    \u001b[37m@given\u001b[39;49;00m(\n",
      "        xps.arrays(\n",
      "            dtype=xps.scalar_dtypes(),\n",
      "            shape=xps.array_shapes().filter(\u001b[94mlambda\u001b[39;49;00m s: prod(s) > \u001b[94m1\u001b[39;49;00m),\n",
      "            elements={\u001b[33m\"\u001b[39;49;00m\u001b[33mmin_value\u001b[39;49;00m\u001b[33m\"\u001b[39;49;00m: \u001b[94m0\u001b[39;49;00m},\n",
      "        )\n",
      "    )\n",
      "    \u001b[94mdef\u001b[39;49;00m \u001b[92mtest_cumsum_pos_arrays_accumulate\u001b[39;49;00m(x):\n",
      "        a = cumsum(x)\n",
      ">       \u001b[94massert\u001b[39;49;00m nxp.all(a[\u001b[94m1\u001b[39;49;00m:] >= a[:-\u001b[94m1\u001b[39;49;00m])\n",
      "\u001b[1m\u001b[31mE       assert Array(False, dtype=bool)\u001b[0m\n",
      "\u001b[1m\u001b[31mE        +  where Array(False, dtype=bool) = <function all at 0x7fccd95528b0>(Array([-9223372036854775808], dtype=int64) >= Array([4611686018427387904], dtype=int64))\u001b[0m\n",
      "\u001b[1m\u001b[31mE        +    where <function all at 0x7fccd95528b0> = nxp.all\u001b[0m\n",
      "\n",
      "\u001b[1m\u001b[31m<cell>\u001b[0m:13: AssertionError\n",
      "-------------------------------------------- Hypothesis --------------------------------------------\n",
      "Falsifying example: test_cumsum_pos_arrays_accumulate(\n",
      "    x=Array([4611686018427387904, 4611686018427387904], dtype=int64),\n",
      ")\n",
      "===================================== short test summary info ======================================\n",
      "FAILED <cell>::test_cumsum_pos_arrays_accumulate - assert Array(False, dtype=bool)\n",
      "\u001b[31m\u001b[31m\u001b[1m1 failed\u001b[0m, \u001b[33m1 deselected\u001b[0m\u001b[31m in 1.20s\u001b[0m\u001b[0m\n"
     ]
    }
   ],
   "source": [
    "def cumsum(x):\n",
    "    xp = x.__array_namespace__()\n",
    "    \n",
    "    x = xp.reshape(x, x.size)\n",
    "    \n",
    "    if x.dtype == xp.bool:\n",
    "        mask = x\n",
    "        dtype = xp.uint64\n",
    "        x = xp.zeros(x.shape, dtype=xp.uint64)\n",
    "        x[mask] = 1\n",
    "        \n",
    "    result = xp.empty(x.size, dtype=max_dtype(xp, x.dtype))\n",
    "    result[0] = x[0]\n",
    "    for i in range(1, x.size):\n",
    "        result[i] = result[i - 1] + x[i]\n",
    "        \n",
    "    return result\n",
    "\n",
    "ipytest.run(\"-k cumsum_pos_arrays_accumulate\", \"--hypothesis-seed=3\")"
   ]
  },
  {
   "cell_type": "markdown",
   "id": "80eb6df7",
   "metadata": {},
   "source": [
    "We resolved our two previous issues\n",
    "but Hypothesis has found yet another failing scenario!\n",
    "\n",
    "```python\n",
    "        x=Array([ 4611686018427387904,  4611686018427387904], dtype=int64)\n",
    "cumsum(x)=Array([ 4611686018427387904, -9223372036854775808], dtype=int64)\n",
    "```\n",
    "\n",
    "Ah, back to overflows.\n",
    "There's not much we can do about this\n",
    "as there's no larger signed integer dtype than `int64`,\n",
    "so we'll just have `cumsum()` detect overflows itself.\n",
    "Overflow behaviour is actually not specified by the Array API,\n",
    "so it could be that an implementing library will raise an error before we do anyway."
   ]
  },
  {
   "cell_type": "code",
   "execution_count": 12,
   "id": "fdeb886e-bb64-40c6-9689-b56bb58d3c0c",
   "metadata": {},
   "outputs": [],
   "source": [
    "def cumsum(x):\n",
    "    xp = x.__array_namespace__()\n",
    "    \n",
    "    x = xp.reshape(x, x.size)\n",
    "    \n",
    "    if x.dtype == xp.bool:\n",
    "        mask = x\n",
    "        dtype = xp.uint64\n",
    "        x = xp.zeros(x.shape, dtype=xp.uint64)\n",
    "        x[mask] = 1\n",
    "        \n",
    "    result = xp.empty(x.size, dtype=max_dtype(xp, x.dtype))\n",
    "    result[0] = x[0]\n",
    "    for i in range(1, x.size):\n",
    "        result[i] = result[i - 1] + x[i]\n",
    "        if result[i] < result[i - 1]:\n",
    "            raise OverflowError(\"Cumulative sum cannot be represented\")\n",
    "        \n",
    "    return result"
   ]
  },
  {
   "cell_type": "markdown",
   "id": "d3ae1eae-a914-4f76-a8aa-83a648224b25",
   "metadata": {},
   "source": [
    "If Hypothesis generates arrays which raise `OverflowError`,\n",
    "we can just catch it\n",
    "and use [`assume(False)`](https://hypothesis.readthedocs.io/en/latest/details.html#making-assumptions)\n",
    "to ignore testing these arrays on runtime.\n",
    "We can explicitly cover overflows in a seperate test."
   ]
  },
  {
   "cell_type": "code",
   "execution_count": 13,
   "id": "44722cd9",
   "metadata": {},
   "outputs": [
    {
     "name": "stdout",
     "output_type": "stream",
     "text": [
      "\u001b[32m.\u001b[0m\u001b[32m                                                                                            [100%]\u001b[0m\n",
      "\u001b[32m\u001b[32m\u001b[1m1 passed\u001b[0m, \u001b[33m2 deselected\u001b[0m\u001b[32m in 0.01s\u001b[0m\u001b[0m\n"
     ]
    }
   ],
   "source": [
    "from hypothesis import assume\n",
    "import pytest\n",
    "\n",
    "@given(\n",
    "    xps.arrays(\n",
    "        dtype=xps.scalar_dtypes(),\n",
    "        shape=xps.array_shapes().filter(lambda s: prod(s) > 1),\n",
    "        elements={\"min_value\": 0},\n",
    "    )\n",
    ")\n",
    "def test_cumsum_pos_arrays_accumulate(x):\n",
    "    try:\n",
    "        a = cumsum(x)\n",
    "        assert nxp.all(a[1:] >= a[:-1])\n",
    "    except OverflowError:\n",
    "        assume(False)\n",
    "    \n",
    "def test_cumsum_fails_on_overflow():\n",
    "    x = nxp.asarray([nxp.iinfo(nxp.uint64).max, 1], dtype=nxp.uint64)\n",
    "    with pytest.raises(OverflowError):\n",
    "        cumsum(x)\n",
    "        \n",
    "ipytest.run(\"-k cumsum_pos_arrays_accumulate\", \"-k cumsum_fails_on_overflow\")"
   ]
  },
  {
   "cell_type": "markdown",
   "id": "aba76cab-ccd1-48e9-8372-26c50c6383ae",
   "metadata": {},
   "source": [
    "So there we have it TODO"
   ]
  }
 ],
 "metadata": {
  "kernelspec": {
   "display_name": "Python 3 (ipykernel)",
   "language": "python",
   "name": "python3"
  },
  "language_info": {
   "codemirror_mode": {
    "name": "ipython",
    "version": 3
   },
   "file_extension": ".py",
   "mimetype": "text/x-python",
   "name": "python",
   "nbconvert_exporter": "python",
   "pygments_lexer": "ipython3",
   "version": "3.8.10"
  },
  "nikola": {
   "author": "Matthew Barber",
   "date": "2021-09-01 00:00:00 UTC",
   "slug": "hypothesis-array-api",
   "title": "Hypothesis now supports Array API adopters"
  }
 },
 "nbformat": 4,
 "nbformat_minor": 5
}
